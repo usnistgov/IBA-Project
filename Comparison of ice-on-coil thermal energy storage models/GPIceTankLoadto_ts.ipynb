{
 "cells": [
  {
   "cell_type": "code",
   "execution_count": null,
   "metadata": {
    "tags": []
   },
   "outputs": [],
   "source": [
    "import matplotlib.pyplot as plt\n",
    "import tensorflow as tf\n",
    "import boto3\n",
    "from numpy import array\n",
    "from numpy import hstack, vstack\n",
    "import numpy as np\n",
    "import pandas as pd\n",
    "from tensorflow.keras.models import Sequential\n",
    "from tensorflow.keras.layers import Dense\n",
    "from tensorflow.keras.optimizers import SGD\n",
    "import keras\n",
    "import tensorflow as tf\n",
    "import matplotlib.pyplot as plt\n",
    "import plotly.offline as pyo\n",
    "import plotly.graph_objs as go\n",
    "import s3fs\n",
    "from numpy import array\n",
    "from numpy import hstack, vstack\n",
    "from statsmodels.tsa.vector_ar.var_model import VAR\n",
    "from random import random\n",
    "import gpflow\n",
    "from gpflow.utilities import print_summary\n",
    "from sklearn.preprocessing import PolynomialFeatures\n",
    "from sklearn.linear_model import LinearRegression\n",
    "from sklearn.metrics import mean_squared_error\n",
    "import pandas as pd\n",
    "import numpy as np\n",
    "import matplotlib.pyplot as plt\n",
    "\n",
    "%matplotlib inline"
   ]
  },
  {
   "cell_type": "code",
   "execution_count": null,
   "metadata": {
    "tags": []
   },
   "outputs": [],
   "source": [
    "!pip install gpflow"
   ]
  },
  {
   "cell_type": "code",
   "execution_count": null,
   "metadata": {
    "tags": []
   },
   "outputs": [],
   "source": [
    "!pip install -U tensorflow --no-cache-dir"
   ]
  },
  {
   "cell_type": "code",
   "execution_count": null,
   "metadata": {
    "tags": []
   },
   "outputs": [],
   "source": [
    "def data_files_fromS3(header_name, datafile_name, bucket_name):\n",
    "    \"\"\"Helper utility function that can fetch the .csv files from S3 and combine them with their column names and convert the datetime format from Unix epochs\n",
    "        Arguments:\n",
    "        ---------\n",
    "        header_name : name of the directory your data file/column names file is in\n",
    "        datafile_name: name of the file that contains the actual sensor readings ( scaled data)\n",
    "        bucket_name: s3 bucket where your files live in\"\"\"\n",
    "    column_names = []\n",
    "    s3 = boto3.client('s3')\n",
    "    obj = s3.get_object(Bucket=bucket_name, Key=header_name)\n",
    "    header = obj['Body'].read()\n",
    "    text = str(header).split(',')\n",
    "    column_names = []\n",
    "    for n in text:\n",
    "        if n.replace('\\\\r\\\\n', '').replace(\"''\",'') != '':\n",
    "            if \"b'time\" in n:\n",
    "                column_names.append('time')\n",
    "            else:\n",
    "                if \"'\" not in n:\n",
    "                    column_names.append(n.replace('\\\\r\\\\n', ''))\n",
    "    s3 = boto3.client('s3')\n",
    "    obj = s3.get_object(Bucket=bucket_name, Key=datafile_name)\n",
    "    scaled_data = pd.read_csv(obj['Body'], index_col=False, names = column_names)\n",
    "    scaled_data['time'] = pd.to_datetime(scaled_data['time'],unit='s')\n",
    "    scaled_data = scaled_data.set_index('time')\n",
    "    return scaled_data"
   ]
  },
  {
   "cell_type": "code",
   "execution_count": null,
   "metadata": {
    "tags": []
   },
   "outputs": [],
   "source": [
    "def datapreprocessing(dataset, smooth=False, filter_nl=False):\n",
    "    \"\"\"Helper utility function that creates the dataset of (initial ice inventory, load, final ice inventory). This is calculated by integrating\n",
    "        the instantaneous load using trapezoidal rule for each possible time interval for the entire dataset. So if the data is for \n",
    "        Parameters:\n",
    "        ---------\n",
    "        dataset: pandas dataframe containing the time series data\n",
    "        header_name : name of the directory your data file/column names file is in\n",
    "        datafile_name: name of the file that contains the actual sensor readings ( scaled data)\n",
    "        bucket_name: s3 bucket where your files live in\n",
    "        \n",
    "        Return:\n",
    "        -------\n",
    "        Tuple containing (input_dataset, output_ts_meter, instantaneous load)\n",
    "        \"\"\"\n",
    "    if filter_nl:\n",
    "        dataset = dataset[(dataset['ts_meter'] > 30) & (dataset['ts_meter'] < 85)]\n",
    "    ts_f = np.array(dataset['ts_f'])\n",
    "    ts_in_rtd = np.array(dataset['ts_in_rtd'])\n",
    "    ts_meter = np.array(dataset['ts_meter'])\n",
    "    ts_out_rtd = np.array(dataset['ts_out_rtd'])\n",
    "    if smooth:\n",
    "        smooth_ts_f = np.where(( (ts_f <= np.median(ts_f) + 2) | (ts_f == 0)), ts_f, np.median(ts_f))\n",
    "        instantaneous_load = smooth_ts_f * 0.00006309 * 1030 * (ts_in_rtd - ts_out_rtd) * (5/9) * 3.9\n",
    "    else:\n",
    "        instantaneous_load = ts_f * 0.00006309 * 1030 * (ts_in_rtd - ts_out_rtd) * (5/9) * 3.9\n",
    "    load_data = dict()\n",
    "    for i in range(0, instantaneous_load.size-2):\n",
    "        for j in range(i, instantaneous_load.size-1):\n",
    "            load_data[''+str(i)+':'+str(j)] = np.trapz(instantaneous_load[i:j], [x for x in range(0,instantaneous_load[i:j].size)])/6\n",
    "    from_ts_meter = []\n",
    "    to_ts_meter = []\n",
    "    load = []\n",
    "    for ft in load_data:\n",
    "        split = ft.split(':')\n",
    "        from_ts, to_ts = int(split[0]), int(split[1])\n",
    "        from_ts_meter.append(ts_meter[from_ts])\n",
    "        to_ts_meter.append(ts_meter[to_ts])\n",
    "        load.append(load_data[ft])\n",
    "    from_ts_meter = np.array(from_ts_meter).reshape((len(from_ts_meter), 1))\n",
    "    to_ts_meter = np.array(to_ts_meter).reshape((len(to_ts_meter), 1))\n",
    "    load = np.array(load).reshape((len(load), 1))\n",
    "    dataset_ts_meter = np.hstack((from_ts_meter, load))\n",
    "    return dataset_ts_meter, to_ts_meter, instantaneous_load"
   ]
  },
  {
   "cell_type": "code",
   "execution_count": null,
   "metadata": {},
   "outputs": [],
   "source": [
    "def convert_to_SI(dataset):\n",
    "    dataset['ts_f'] *= 3.785\n",
    "    dataset['ts_in_rtd'] = (dataset['ts_in_rtd'] - 32)*(5/9)\n",
    "    dataset['ts_out_rtd'] = (dataset['ts_out_rtd'] - 32)*(5/9)\n",
    "    return dataset"
   ]
  },
  {
   "cell_type": "code",
   "execution_count": null,
   "metadata": {},
   "outputs": [],
   "source": [
    "def visualize_dataset(dataset, dataset_name):\n",
    "    \"\"\"visualizeS ts_f, ts_in_rtd, ts_meter and ts_out_rtd features of the dataset\n",
    "    in the future I need to change the function so that one can pass the features they would like to visualize and also the sample rate\"\"\"\n",
    "    ice_tank_columns = dataset.filter(['ts_f', 'ts_in_rtd', 'ts_meter', 'ts_out_rtd'], axis = 1)\n",
    "    ice_tank_columns = convert_to_SI(ice_tank_columns)\n",
    "    #downsampled_data = ice_tank_columns.resample('10T').mean()\n",
    "    downsampled_data = ice_tank_columns\n",
    "    ts_f = array(downsampled_data['ts_f'])\n",
    "    ts_in_rtd = array(downsampled_data['ts_in_rtd'])\n",
    "    ts_meter= array(downsampled_data['ts_meter'])\n",
    "    ts_out_rtd = array(downsampled_data['ts_out_rtd'])\n",
    "    timestep = array([X for X in range(0, len(ts_f)*10, 10)])\n",
    "    layout = go.Layout(title='Visualize dataset', xaxis={'title':'timestep'}, yaxis=dict(title='Actual values for features'), hovermode='closest')\n",
    "    fig = go.Figure(layout_yaxis_range = [min(min(ts_f), min(ts_in_rtd), min(ts_meter), min(ts_out_rtd)-20), max(max(ts_f), max(ts_in_rtd), max(ts_meter), max(ts_out_rtd))+20])\n",
    "    fig.add_trace(go.Scatter(x=timestep, y=ts_f, mode='lines+markers', name='ts_f (L/min)'))\n",
    "    fig.add_trace(go.Scatter(x=timestep, y=ts_in_rtd, mode='lines+markers', name='ts_in_rtd (°C)'))\n",
    "    fig.add_trace(go.Scatter(x=timestep, y=ts_meter, mode='lines+markers', name='ts_meter %'))\n",
    "    fig.add_trace(go.Scatter(x=timestep, y=ts_out_rtd, mode='lines+markers', name='ts_out_rtd (°C)'))\n",
    "    fig.update_layout(title=\"Feature Plot\", xaxis_title=\"time (min)\", yaxis_title=\"Variable Values\", \n",
    "                          legend_title=\"State Variables\", font=dict(family=\"Courier New, monospace\", size=18, color=\"RebeccaPurple\"))\n",
    "    pyo.plot(fig, filename=dataset_name)"
   ]
  },
  {
   "cell_type": "code",
   "execution_count": null,
   "metadata": {
    "tags": []
   },
   "outputs": [],
   "source": [
    "scaled_data_2018_08_22_run2 = data_files_fromS3('.PATH/sHeader.csv', '.PATH/scaledData.csv', \"S3 BUCKET\")\n",
    "original_discharge_input4, original_discharge_output4, _ = datapreprocessing(scaled_data_2018_08_22_run2, False, True)\n",
    "original_discharge_input4_smooth, original_discharge_output4_smooth, _ = datapreprocessing(scaled_data_2018_08_22_run2, True, True)"
   ]
  },
  {
   "cell_type": "markdown",
   "metadata": {},
   "source": [
    "# Larger Data Models"
   ]
  },
  {
   "cell_type": "markdown",
   "metadata": {},
   "source": [
    "### Charge Mode"
   ]
  },
  {
   "cell_type": "code",
   "execution_count": null,
   "metadata": {
    "tags": []
   },
   "outputs": [],
   "source": [
    "scaled_data_2018_08_09_run1 = data_files_fromS3('.PATH/sHeader.csv', '.PATH/scaledData.csv', \"S3 BUCKET\")\n",
    "scaled_data_2018_08_09_run1 = scaled_data_2018_08_09_run1.resample('10T').mean()\n",
    "original_charge_training_input1, original_charge_training_output1, _ = datapreprocessing(scaled_data_2018_08_09_run1, False, True)"
   ]
  },
  {
   "cell_type": "code",
   "execution_count": null,
   "metadata": {
    "tags": []
   },
   "outputs": [],
   "source": [
    "scaled_data_2018_08_15_run1 = data_files_fromS3('.PATH/sHeader.csv', '.PATH/scaledData.csv', \"S3 BUCKET\")\n",
    "scaled_data_2018_08_15_run1 = scaled_data_2018_08_15_run1.resample('10T').mean()\n",
    "original_charge_training_input2, original_charge_training_output2, _ = datapreprocessing(scaled_data_2018_08_15_run1, False, True)"
   ]
  },
  {
   "cell_type": "code",
   "execution_count": null,
   "metadata": {
    "tags": []
   },
   "outputs": [],
   "source": [
    "scaled_data_2018_08_22_run1 = data_files_fromS3('.PATH/sHeader.csv', '.PATH/scaledData.csv', \"S3 BUCKET\")\n",
    "#Q_data = scaled_data_2018_05_09_run1['ts_meter']\n",
    "scaled_data_2018_08_22_run1 = scaled_data_2018_08_22_run1.resample('10T').mean()\n",
    "original_charge_training_input3, original_charge_training_output3, _ = datapreprocessing(scaled_data_2018_08_22_run1, False, True)"
   ]
  },
  {
   "cell_type": "code",
   "execution_count": null,
   "metadata": {
    "tags": []
   },
   "outputs": [],
   "source": [
    "scaled_data_2019_10_08_run1 = data_files_fromS3('.PATH/sHeader.csv', '.PATH/scaledData.csv', \"S3 BUCKET\")\n",
    "#Q_data = scaled_data_2018_05_09_run1['ts_meter']\n",
    "scaled_data_2019_10_08_run1 = scaled_data_2019_10_08_run1.resample('10T').mean()\n",
    "original_charge_training_input4, original_charge_training_output4, _ = datapreprocessing(scaled_data_2019_10_08_run1, False, True)"
   ]
  },
  {
   "cell_type": "code",
   "execution_count": null,
   "metadata": {},
   "outputs": [],
   "source": [
    "combined_input = np.vstack((original_charge_training_input1, original_charge_training_input2, original_charge_training_input3, original_charge_training_input4))\n",
    "combined_to_ts_meter =  np.vstack((original_charge_training_output1, original_charge_training_output2, original_charge_training_output3, original_charge_training_output4))"
   ]
  },
  {
   "cell_type": "code",
   "execution_count": null,
   "metadata": {
    "tags": []
   },
   "outputs": [],
   "source": [
    "scaled_data_2018_05_09_run1 = data_files_fromS3('.PATH/sHeader.csv', '.PATH/scaledData.csv', \"S3 BUCKET\")\n",
    "scaled_data_2018_05_09_run1 = scaled_data_2018_05_09_run1.resample('10T').mean()\n",
    "original_charge_training_input1, original_charge_training_output1, _ = datapreprocessing(scaled_data_2018_05_09_run1, False, True)\n",
    "\n",
    "\n",
    "scaled_data_2018_05_17_run2 = data_files_fromS3('.PATH/sHeader.csv', '.PATH/scaledData.csv', \"S3 BUCKET\")\n",
    "scaled_data_2018_05_17_run2 = scaled_data_2018_05_17_run2.resample('10T').mean()\n",
    "original_charge_training_input2, original_charge_training_output2, _ = datapreprocessing(scaled_data_2018_05_17_run2, False, True)\n",
    "\n",
    "\n",
    "scaled_data_2019_10_08_run1 = data_files_fromS3('.PATH/sHeader.csv', '.PATH/scaledData.csv', \"S3 BUCKET\")\n",
    "scaled_data_2019_10_08_run1 = scaled_data_2019_10_08_run1.resample('10T').mean()\n",
    "original_charge_training_input3, original_charge_training_output3, _ = datapreprocessing(scaled_data_2019_10_08_run1, False, True)\n",
    "\n",
    "\n",
    "scaled_data_2019_10_22_run1 = data_files_fromS3('.PATH/sHeader.csv', '.PATH/scaledData.csv', \"S3 BUCKET\")\n",
    "scaled_data_2019_10_22_run1 = scaled_data_2019_10_22_run1.resample('10T').mean()\n",
    "original_charge_training_input4, original_charge_training_output4, _ = datapreprocessing(scaled_data_2019_10_22_run1, False, True)"
   ]
  },
  {
   "cell_type": "code",
   "execution_count": null,
   "metadata": {},
   "outputs": [],
   "source": [
    "plt_mean_squared_error = []\n",
    "regression_model = LinearRegression()\n",
    "regression_model.fit(combined_input, combined_to_ts_meter)"
   ]
  },
  {
   "cell_type": "code",
   "execution_count": null,
   "metadata": {
    "tags": []
   },
   "outputs": [],
   "source": [
    "scaled_data_2019_10_22_run1 = data_files_fromS3('.PATH/sHeader.csv', '.PATH/scaledData.csv', \"S3 BUCKET\")\n",
    "scaled_data_2019_10_22_run1 = scaled_data_2019_10_22_run1.resample('10T').mean()\n",
    "original_charge_validation_input, original_charge_validation_output, _ = datapreprocessing(scaled_data_2019_10_22_run1, False, True)"
   ]
  },
  {
   "cell_type": "code",
   "execution_count": null,
   "metadata": {},
   "outputs": [],
   "source": [
    "LReg_prediction_charge_mode = regression_model.predict(original_charge_validation_input)\n",
    "mean_squared_error(original_charge_validation_output, LReg_prediction_charge_mode, squared=False)"
   ]
  },
  {
   "cell_type": "code",
   "execution_count": null,
   "metadata": {
    "tags": []
   },
   "outputs": [],
   "source": [
    "fig = plt.figure()\n",
    "ax = fig.add_subplot()\n",
    "fig.set_dpi(450)\n",
    "#ax.scatter(original_charge_training_input1[:,1], (LReg_prediction_charge_mode.flatten() - original_charge_validation_input[:,0].flatten()), marker='.', s=10, label='Prediction', color='red')\n",
    "ax.scatter(original_charge_training_input1[:,1], (original_charge_training_output1.flatten() - original_charge_training_input1[:,0].flatten()),  marker='.', s=10, label='dataset1', color='b')\n",
    "ax.scatter(original_charge_training_input2[:,1], (original_charge_training_output2.flatten() - original_charge_training_input2[:,0].flatten()),  marker='.', s=10, label='dataset2', color='g')\n",
    "ax.scatter(original_charge_training_input3[:,1], (original_charge_training_output3.flatten() - original_charge_training_input3[:,0].flatten()),  marker='.', s=10, label='dataset3', color='r')\n",
    "ax.scatter(original_charge_training_input4[:,1], (original_charge_training_output4.flatten() - original_charge_training_input4[:,0].flatten()),  marker='.', s=10, label='dataset4', color='c')\n",
    "ax.scatter(original_charge_validation_input[:,1], (original_charge_validation_output.flatten() - original_charge_validation_input[:,0].flatten()),  marker='.', s=10, label='Test Data', color='brown')\n",
    "#ax.set_title(\"Load vs Change in ice inventory\", fontdict={'fontsize': 10})\n",
    "ax.legend()\n",
    "ax.legend(loc='upper right', prop={'size': 10})\n",
    "ax.set_ylabel(\"Δ Inventory [%]\")\n",
    "ax.set_xlabel(\"Load [kWh]\")"
   ]
  },
  {
   "cell_type": "markdown",
   "metadata": {},
   "source": [
    "### neural net larger data charge mode"
   ]
  },
  {
   "cell_type": "code",
   "execution_count": null,
   "metadata": {
    "tags": []
   },
   "outputs": [],
   "source": [
    "model = Sequential()\n",
    "model.add(Dense(15, activation = 'relu', input_shape = (2,), kernel_initializer='glorot_uniform'))\n",
    "model.add(Dense(15, activation = 'relu'))\n",
    "model.add(Dense(1, activation = 'relu'))\n",
    "model.compile(optimizer='adam', loss='mse')\n",
    "model.fit(combined_input, combined_to_ts_meter, epochs=300, verbose=0)"
   ]
  },
  {
   "cell_type": "code",
   "execution_count": null,
   "metadata": {},
   "outputs": [],
   "source": [
    "NeuralNet_prediction_charge_mode = model.predict(original_charge_validation_input)\n",
    "mean_squared_error(original_charge_validation_output, NeuralNet_prediction_charge_mode, squared=False)"
   ]
  },
  {
   "cell_type": "code",
   "execution_count": null,
   "metadata": {},
   "outputs": [],
   "source": [
    "fig = plt.figure()\n",
    "ax = fig.add_subplot()\n",
    "fig.set_dpi(450)\n",
    "ax.scatter(original_charge_validation_input[:,1], (NeuralNet_prediction_charge_mode.flatten() - original_charge_validation_input[:,0].flatten()), marker='.', s=10, label='Prediction', color='red')\n",
    "ax.scatter(original_charge_validation_input[:,1], (original_charge_validation_output.flatten() - original_charge_validation_input[:,0].flatten()),  marker='.', s=10, label='Actual')\n",
    "ax.set_title(\"Load vs Change in ice inventory\", fontdict={'fontsize': 10})\n",
    "ax.legend()\n",
    "ax.legend(loc=2, prop={'size': 6})\n",
    "ax.set_ylabel(\"Δ Inventory [%]\")\n",
    "ax.set_xlabel(\"Load [kWh]\")"
   ]
  },
  {
   "cell_type": "markdown",
   "metadata": {},
   "source": [
    "### larger data discharge mode"
   ]
  },
  {
   "cell_type": "code",
   "execution_count": null,
   "metadata": {},
   "outputs": [],
   "source": [
    "scaled_data_2018_05_09_run1\n",
    "scaled_data_2018_05_14_run1\n",
    "scaled_data_2018_05_17_run2\n",
    "scaled_data_2018_08_25_run2"
   ]
  },
  {
   "cell_type": "code",
   "execution_count": null,
   "metadata": {
    "tags": []
   },
   "outputs": [],
   "source": [
    "scaled_data_2018_05_09_run1 = data_files_fromS3('.PATH/sHeader.csv', '.PATH/scaledData.csv', \"S3 BUCKET\")\n",
    "scaled_data_2018_05_09_run1 = scaled_data_2018_05_09_run1.resample('10T').mean()\n",
    "original_discharge_input1, original_discharge_output1, _ = datapreprocessing(scaled_data_2018_05_09_run1, False, True)\n",
    "original_discharge_input1_smooth, original_discharge_output1_smooth, _ = datapreprocessing(scaled_data_2018_05_09_run1, True, True)"
   ]
  },
  {
   "cell_type": "code",
   "execution_count": null,
   "metadata": {
    "tags": []
   },
   "outputs": [],
   "source": [
    "scaled_data_2018_05_14_run1 = data_files_fromS3('.PATH/sHeader.csv', '.PATH/scaledData.csv', \"S3 BUCKET\")\n",
    "scaled_data_2018_05_14_run1 = scaled_data_2018_05_14_run1.resample('10T').mean()\n",
    "original_discharge_input2, original_discharge_output2, _ = datapreprocessing(scaled_data_2018_05_14_run1, False, True)\n",
    "original_discharge_input2_smooth, original_discharge_output2_smooth, _ = datapreprocessing(scaled_data_2018_05_14_run1, True, True)"
   ]
  },
  {
   "cell_type": "code",
   "execution_count": null,
   "metadata": {
    "tags": []
   },
   "outputs": [],
   "source": [
    "scaled_data_2018_05_17_run2 = data_files_fromS3('.PATH/sHeader.csv', '.PATH/scaledData.csv', \"S3 BUCKET\")\n",
    "scaled_data_2018_05_17_run2 = scaled_data_2018_05_17_run2.resample('10T').mean()\n",
    "original_discharge_input3, original_discharge_output3, _ = datapreprocessing(scaled_data_2018_05_17_run2, False, True)\n",
    "original_discharge_input3_smooth, original_discharge_output3_smooth, _ = datapreprocessing(scaled_data_2018_05_17_run2, True, True)"
   ]
  },
  {
   "cell_type": "code",
   "execution_count": null,
   "metadata": {
    "tags": []
   },
   "outputs": [],
   "source": [
    "scaled_data_2018_08_25_run2 = data_files_fromS3('.PATH/sHeader.csv', '.PATH/scaledData.csv', \"S3 BUCKET\")\n",
    "scaled_data_2018_08_25_run2 = scaled_data_2018_08_25_run2.resample('10T').mean()\n",
    "original_discharge_input4, original_discharge_output4, _ = datapreprocessing(scaled_data_2018_08_25_run2, False, True)\n",
    "original_discharge_input4_smooth, original_discharge_output4_smooth, _ = datapreprocessing(scaled_data_2018_08_25_run2, True, True)"
   ]
  },
  {
   "cell_type": "code",
   "execution_count": null,
   "metadata": {
    "tags": []
   },
   "outputs": [],
   "source": [
    "scaled_data_2018_08_22_run2 = data_files_fromS3('.PATH/sHeader.csv', '.PATH/scaledData.csv', \"S3 BUCKET\")\n",
    "scaled_data_2018_08_22_run2 = scaled_data_2018_08_22_run2.resample('10T').mean()\n",
    "original_discharge_input5, original_discharge_output5, _ = datapreprocessing(scaled_data_2018_08_22_run2, False, True)\n",
    "original_discharge_input5_smooth, original_discharge_output5_smooth, _ = datapreprocessing(scaled_data_2018_08_22_run2, True, True)"
   ]
  },
  {
   "cell_type": "code",
   "execution_count": null,
   "metadata": {
    "tags": []
   },
   "outputs": [],
   "source": [
    "fig = plt.figure()\n",
    "ax = fig.add_subplot()\n",
    "fig.set_dpi(450)\n",
    "ax.scatter(original_discharge_input1[:,1], (original_discharge_output1.flatten() - original_discharge_input1[:,0].flatten()),  marker='.', s=10, label='Test Data', color='brown')\n",
    "ax.scatter(original_discharge_input2[:,1], (original_discharge_output2.flatten() - original_discharge_input2[:,0].flatten()),  marker='.', s=10, label='Dataset1', color='b')\n",
    "ax.scatter(original_discharge_input3[:,1], (original_discharge_output3.flatten() - original_discharge_input3[:,0].flatten()),  marker='.', s=10, label='Dataset2', color='g')\n",
    "ax.scatter(original_discharge_input4[:,1], (original_discharge_output4.flatten() - original_discharge_input4[:,0].flatten()),  marker='.', s=10, label='Dataset3', color='r')\n",
    "ax.scatter(original_discharge_input5[:,1], (original_discharge_output5.flatten() - original_discharge_input5[:,0].flatten()),  marker='.', s=10, label='Dataset4', color='c')\n",
    "ax.legend(loc='upper right')\n",
    "ax.legend( prop={'size': 6})\n",
    "ax.set_ylabel(\"Δ Inventory [%]\")\n",
    "ax.set_xlabel(\"Load [kWh]\")"
   ]
  },
  {
   "cell_type": "code",
   "execution_count": null,
   "metadata": {
    "tags": []
   },
   "outputs": [],
   "source": [
    "fig = plt.figure()\n",
    "ax = fig.add_subplot()\n",
    "fig.set_dpi(450)\n",
    "#ax.scatter(original_charge_training_input1[:,1], (LReg_prediction_charge_mode.flatten() - original_charge_validation_input[:,0].flatten()), marker='.', s=10, label='Prediction', color='red')\n",
    "ax.scatter(original_discharge_input1_smooth[:,1], (original_discharge_output1_smooth.flatten() - original_discharge_input1_smooth[:,0].flatten()),  marker='.', s=10, label='Test Data')\n",
    "ax.scatter(original_discharge_input2_smooth[:,1], (original_discharge_output2_smooth.flatten() - original_discharge_input2_smooth[:,0].flatten()),  marker='.', s=10, label='Dataset1')\n",
    "ax.scatter(original_discharge_input3_smooth[:,1], (original_discharge_output3_smooth.flatten() - original_discharge_input3_smooth[:,0].flatten()),  marker='.', s=10, label='Dataset2')\n",
    "ax.scatter(original_discharge_input4_smooth[:,1], (original_discharge_output4_smooth.flatten() - original_discharge_input4_smooth[:,0].flatten()),  marker='.', s=10, label='Dataset3')\n",
    "ax.scatter(original_discharge_input5_smooth[:,1], (original_discharge_output5_smooth.flatten() - original_discharge_input5_smooth[:,0].flatten()),  marker='.', s=10, label='Dataset4')\n",
    "#ax.scatter(original_discharge_input1[:,1], (original_charge_validation_output.flatten() - original_charge_validation_input[:,0].flatten()),  marker='.', s=10, label='test', color='red')\n",
    "#ax.set_title(\"Load vs Change in ice inventory\", fontdict={'fontsize': 10})\n",
    "ax.legend(loc='upper right', prop={'size': 6})\n",
    "ax.set_ylabel(\"Δ Inventory [%]\")\n",
    "ax.set_xlabel(\"Load [kWh]\")"
   ]
  },
  {
   "cell_type": "code",
   "execution_count": null,
   "metadata": {},
   "outputs": [],
   "source": [
    "combined_input_discharge = np.vstack((original_discharge_test_input, original_discharge_input2, original_discharge_input3, original_discharge_input4))\n",
    "combined_to_ts_meter_discharge =  np.vstack((original_discharge_test_output, original_discharge_output2, original_discharge_output3, original_discharge_output4))"
   ]
  },
  {
   "cell_type": "code",
   "execution_count": null,
   "metadata": {},
   "outputs": [],
   "source": []
  },
  {
   "cell_type": "code",
   "execution_count": null,
   "metadata": {},
   "outputs": [],
   "source": [
    "regression_model_discharge = LinearRegression()\n",
    "regression_model_discharge.fit(combined_input_discharge, combined_to_ts_meter_discharge)"
   ]
  },
  {
   "cell_type": "code",
   "execution_count": null,
   "metadata": {},
   "outputs": [],
   "source": [
    "scaled_data_2018_08_15_run2 = data_files_fromS3('.PATH/sHeader.csv', '.PATH/scaledData.csv', \"S3 BUCKET\")\n",
    "scaled_data_2018_08_15_run2 = scaled_data_2018_08_15_run2.resample('10T').mean()\n",
    "original_discharge_test_input, original_discharge_test_output, _ = datapreprocessing(scaled_data_2018_08_15_run2, False)\n",
    "original_discharge_test_input_smooth, original_discharge_test_output_smooth, _ = datapreprocessing(scaled_data_2018_08_15_run2, True)"
   ]
  },
  {
   "cell_type": "code",
   "execution_count": null,
   "metadata": {},
   "outputs": [],
   "source": [
    "visualize_dataset(scaled_data_2018_08_15_run2, './scaled_data_2018_08_15_run2.html')"
   ]
  },
  {
   "cell_type": "code",
   "execution_count": null,
   "metadata": {},
   "outputs": [],
   "source": [
    "LReg_prediction_discharge_mode_nonsmooth = regression_model_discharge.predict(original_discharge_input1)\n",
    "mean_squared_error(original_discharge_output1, LReg_prediction_discharge_mode_nonsmooth, squared=False)"
   ]
  },
  {
   "cell_type": "code",
   "execution_count": null,
   "metadata": {},
   "outputs": [],
   "source": [
    "combined_input_discharge_smooth = np.vstack((original_discharge_test_input_smooth, original_discharge_input2_smooth, original_discharge_input3_smooth, original_discharge_input4_smooth))\n",
    "combined_to_ts_meter_discharge_smooth =  np.vstack((original_discharge_test_output_smooth, original_discharge_output2_smooth, original_discharge_output3_smooth, original_discharge_output4_smooth))"
   ]
  },
  {
   "cell_type": "code",
   "execution_count": null,
   "metadata": {},
   "outputs": [],
   "source": [
    "regression_model_discharge_smooth = LinearRegression()\n",
    "regression_model_discharge_smooth.fit(combined_input_discharge_smooth, combined_to_ts_meter_discharge_smooth)"
   ]
  },
  {
   "cell_type": "code",
   "execution_count": null,
   "metadata": {},
   "outputs": [],
   "source": [
    "LReg_prediction_discharge_mode_smooth = regression_model_discharge_smooth.predict(original_discharge_input1_smooth)\n",
    "mean_squared_error(original_discharge_output1_smooth, LReg_prediction_discharge_mode_smooth, squared=False)"
   ]
  },
  {
   "cell_type": "code",
   "execution_count": null,
   "metadata": {},
   "outputs": [],
   "source": []
  },
  {
   "cell_type": "code",
   "execution_count": null,
   "metadata": {},
   "outputs": [],
   "source": [
    "scaled_data_2018_08_15_run2 = data_files_fromS3('.PATH/sHeader.csv', '.PATH/scaledData.csv', \"S3 BUCKET\")\n",
    "scaled_data_2018_08_15_run2 = scaled_data_2018_08_15_run2.resample('10T').mean()\n",
    "visualize_dataset(scaled_data_2018_08_15_run2, './scaled_data/scaled_data_2018_08_15_run2.html')"
   ]
  },
  {
   "cell_type": "markdown",
   "metadata": {},
   "source": [
    "### linear regression charge mode filtered data"
   ]
  },
  {
   "cell_type": "code",
   "execution_count": null,
   "metadata": {},
   "outputs": [],
   "source": [
    "scaled_data_2019_10_08_run1 = data_files_fromS3('.PATH/sHeader.csv', '.PATH/scaledData.csv', \"S3 BUCKET\")\n",
    "scaled_data_2019_10_08_run1 = scaled_data_2019_10_08_run1.resample('10T').mean()\n",
    "original_charge_training_input4, original_charge_training_output4, _ = datapreprocessing(scaled_data_2019_10_08_run1, False, True)"
   ]
  },
  {
   "cell_type": "code",
   "execution_count": null,
   "metadata": {},
   "outputs": [],
   "source": [
    "scaled_data_2019_10_22_run1 = data_files_fromS3('.PATH/sHeader.csv', '.PATH/scaledData.csv', \"S3 BUCKET\")\n",
    "scaled_data_2019_10_22_run1 = scaled_data_2019_10_22_run1.resample('10T').mean()\n",
    "original_charge_validation_input, original_charge_validation_output, _ = datapreprocessing(scaled_data_2019_10_22_run1, False, True)"
   ]
  },
  {
   "cell_type": "code",
   "execution_count": null,
   "metadata": {},
   "outputs": [],
   "source": [
    "regression_model_charge = LinearRegression()\n",
    "regression_model_charge.fit(original_charge_training_input4, original_charge_training_output4)"
   ]
  },
  {
   "cell_type": "code",
   "execution_count": null,
   "metadata": {},
   "outputs": [],
   "source": [
    "LReg_prediction_charge_mode = regression_model_charge.predict(original_charge_validation_input)\n",
    "mean_squared_error(original_charge_validation_output, LReg_prediction_charge_mode, squared=False)"
   ]
  },
  {
   "cell_type": "markdown",
   "metadata": {},
   "source": [
    "### linear regression discharge mode smooth vs nonsmooth filtered data"
   ]
  },
  {
   "cell_type": "code",
   "execution_count": null,
   "metadata": {},
   "outputs": [],
   "source": [
    "scaled_data_2018_05_09_run1 = data_files_fromS3('.PATH/sHeader.csv', '.PATH/scaledData.csv', \"S3 BUCKET\")\n",
    "scaled_data_2018_05_09_run1 = scaled_data_2018_05_09_run1.resample('10T').mean()\n",
    "original_discharge_input1_filter, original_discharge_output1_filter, _ = datapreprocessing(scaled_data_2018_05_09_run1, False, True )\n",
    "original_discharge_input1_smooth_filter, original_discharge_output1_smooth_filter, _ = datapreprocessing(scaled_data_2018_05_09_run1, True, True)"
   ]
  },
  {
   "cell_type": "code",
   "execution_count": null,
   "metadata": {},
   "outputs": [],
   "source": [
    "scaled_data_2018_05_14_run1 = data_files_fromS3('.PATH/sHeader.csv', '.PATH/scaledData.csv', \"S3 BUCKET\")\n",
    "scaled_data_2018_05_14_run1 = scaled_data_2018_05_14_run1.resample('10T').mean()\n",
    "original_discharge_input2_filter, original_discharge_output2_filter, _ = datapreprocessing(scaled_data_2018_05_14_run1, False, True)\n",
    "original_discharge_input2_smooth_filter, original_discharge_output2_smooth_filter, _ = datapreprocessing(scaled_data_2018_05_14_run1, True, True)"
   ]
  },
  {
   "cell_type": "code",
   "execution_count": null,
   "metadata": {},
   "outputs": [],
   "source": [
    "regression_model_discharge = LinearRegression()\n",
    "regression_model_discharge.fit(original_discharge_input1_smooth_filter, original_discharge_output1_smooth_filter)"
   ]
  },
  {
   "cell_type": "code",
   "execution_count": null,
   "metadata": {},
   "outputs": [],
   "source": [
    "LReg_prediction_charge_mode = regression_model_charge.predict(original_discharge_input2_smooth_filter)\n",
    "mean_squared_error(original_discharge_output2_smooth_filter, LReg_prediction_charge_mode, squared=False)"
   ]
  },
  {
   "cell_type": "code",
   "execution_count": null,
   "metadata": {},
   "outputs": [],
   "source": [
    "fig = plt.figure()\n",
    "ax = fig.add_subplot()\n",
    "fig.set_dpi(450)\n",
    "ax.scatter(original_discharge_input1_smooth_filter[:,1], (original_discharge_output1_smooth_filter.flatten() - original_discharge_input1_smooth_filter[:,0].flatten()),  marker='.', s=10, label='Train - Smooth Filtered')\n",
    "ax.scatter(original_discharge_input1_filter[:,1], (original_discharge_output1_filter.flatten() - original_discharge_input1_filter[:,0].flatten()),  marker='.', s=10, label='Train - Filtered')\n",
    "ax.set_title(\"Load vs Change in ice inventory\", fontdict={'fontsize': 10})\n",
    "ax.legend()\n",
    "ax.legend(loc=2, prop={'size': 6})\n",
    "ax.set_ylabel(\"Δ Inventory [%]\")\n",
    "ax.set_xlabel(\"Load [kWh]\")"
   ]
  },
  {
   "cell_type": "code",
   "execution_count": null,
   "metadata": {},
   "outputs": [],
   "source": [
    "fig = plt.figure()\n",
    "ax = fig.add_subplot()\n",
    "fig.set_dpi(450)\n",
    "ax.scatter(original_discharge_input2_smooth_filter[:,1], (original_discharge_output2_smooth_filter.flatten() - original_discharge_input2_smooth_filter[:,0].flatten()),  marker='.', s=10, label='Test - Smooth Filtered')\n",
    "ax.scatter(original_discharge_input2_filter[:,1], (original_discharge_output2_filter.flatten() - original_discharge_input2_filter[:,0].flatten()),  marker='.', s=10, label='Test - Filtered')\n",
    "ax.set_title(\"Load vs Change in ice inventory\", fontdict={'fontsize': 10})\n",
    "ax.legend()\n",
    "ax.legend(loc=2, prop={'size': 6})\n",
    "ax.set_ylabel(\"Δ Inventory [%]\")\n",
    "ax.set_xlabel(\"Load [kWh]\")"
   ]
  },
  {
   "cell_type": "code",
   "execution_count": null,
   "metadata": {},
   "outputs": [],
   "source": [
    "fig = plt.figure()\n",
    "ax = fig.add_subplot()\n",
    "fig.set_dpi(450)\n",
    "ax.scatter(original_discharge_input1_smooth_filter[:,1], (original_discharge_output1_smooth_filter.flatten() - original_discharge_input1_smooth_filter[:,0].flatten()),  marker='.', s=10, label='Train - Smooth Filtered')\n",
    "ax.scatter(original_discharge_input2_smooth_filter[:,1], (original_discharge_output2_smooth_filter.flatten() - original_discharge_input2_smooth_filter[:,0].flatten()),  marker='.', s=10, label='Test - Smooth Filtered')\n",
    "ax.set_title(\"Load vs Change in ice inventory\", fontdict={'fontsize': 10})\n",
    "ax.legend()\n",
    "ax.legend(loc=2, prop={'size': 6})\n",
    "ax.set_ylabel(\"Δ Inventory [%]\")\n",
    "ax.set_xlabel(\"Load [kWh]\")"
   ]
  },
  {
   "cell_type": "code",
   "execution_count": null,
   "metadata": {},
   "outputs": [],
   "source": [
    "fig = plt.figure()\n",
    "ax = fig.add_subplot()\n",
    "fig.set_dpi(450)\n",
    "ax.scatter(original_discharge_input1_filter[:,1], (original_discharge_output1_filter.flatten() - original_discharge_input1_filter[:,0].flatten()),  marker='.', s=10, label='Train - Filtered')\n",
    "ax.scatter(original_discharge_input2_filter[:,1], (original_discharge_output2_filter.flatten() - original_discharge_input2_filter[:,0].flatten()),  marker='.', s=10, label='Test - Filtered')\n",
    "ax.set_title(\"Load vs Change in ice inventory\", fontdict={'fontsize': 10})\n",
    "ax.legend()\n",
    "ax.legend(loc=2, prop={'size': 6})\n",
    "ax.set_ylabel(\"Δ Inventory [%]\")\n",
    "ax.set_xlabel(\"Load [kWh]\")"
   ]
  },
  {
   "cell_type": "markdown",
   "metadata": {},
   "source": [
    "### Opposite Mode Trained Smooth Filtered Data"
   ]
  },
  {
   "cell_type": "code",
   "execution_count": null,
   "metadata": {},
   "outputs": [],
   "source": [
    "scaled_data_2018_05_17_run2 = data_files_fromS3('.PATH/sHeader.csv', '.PATH/scaledData.csv', \"S3 BUCKET\")\n",
    "scaled_data_2018_05_17_run2 = scaled_data_2018_05_17_run2.resample('10T').mean()\n",
    "original_discharge_training_input, original_discharge_training_output, _ = datapreprocessing(scaled_data_2018_05_17_run2, True, True)"
   ]
  },
  {
   "cell_type": "code",
   "execution_count": null,
   "metadata": {},
   "outputs": [],
   "source": [
    "scaled_data_2019_10_08_run1 = data_files_fromS3('.PATH/sHeader.csv', '.PATH/scaledData.csv', \"S3 BUCKET\")\n",
    "scaled_data_2019_10_08_run1 = scaled_data_2019_10_08_run1.resample('10T').mean()\n",
    "original_charge_training_input, original_charge_training_output, _ = datapreprocessing(scaled_data_2019_10_08_run1, False, True)"
   ]
  },
  {
   "cell_type": "code",
   "execution_count": null,
   "metadata": {},
   "outputs": [],
   "source": [
    "combined_dataset = np.vstack((original_charge_training_input, original_discharge_training_input))\n",
    "combined_to_ts_meter =  np.vstack((original_charge_training_output, original_discharge_training_output))"
   ]
  },
  {
   "cell_type": "code",
   "execution_count": null,
   "metadata": {},
   "outputs": [],
   "source": [
    "plt_mean_squared_error = []\n",
    "regression_model = LinearRegression()\n",
    "regression_model.fit(original_discharge_training_input, original_discharge_training_output)"
   ]
  },
  {
   "cell_type": "code",
   "execution_count": null,
   "metadata": {},
   "outputs": [],
   "source": [
    "LReg_prediction_charge_mode = regression_model.predict(original_charge_training_input)\n",
    "mean_squared_error(original_charge_training_output, LReg_prediction_charge_mode, squared=False)"
   ]
  },
  {
   "cell_type": "code",
   "execution_count": null,
   "metadata": {},
   "outputs": [],
   "source": [
    "plt_mean_squared_error = []\n",
    "regression_model = LinearRegression()\n",
    "regression_model.fit(original_charge_training_input, original_charge_training_output)"
   ]
  },
  {
   "cell_type": "code",
   "execution_count": null,
   "metadata": {},
   "outputs": [],
   "source": [
    "LReg_prediction_charge_mode = regression_model.predict(original_discharge_training_input)\n",
    "mean_squared_error(original_discharge_training_output, LReg_prediction_charge_mode, squared=False)"
   ]
  },
  {
   "cell_type": "code",
   "execution_count": null,
   "metadata": {
    "tags": []
   },
   "outputs": [],
   "source": [
    "scaled_data_2018_05_09_run1 = data_files_fromS3('.PATH/sHeader.csv', '.PATH/scaledData.csv', \"S3 BUCKET\")\n",
    "scaled_data_2018_05_09_run1 = scaled_data_2018_05_09_run1.resample('10T').mean()\n",
    "original_discharge_validation_input, original_discharge_validation_output, _ = datapreprocessing(scaled_data_2018_05_09_run1, False)\n",
    "\n",
    "\n",
    "fig = plt.figure()\n",
    "ax = fig.add_subplot()\n",
    "fig.set_dpi(450)\n",
    "ax.scatter(original_discharge_validation_input[:,1], (original_discharge_validation_output.flatten() - original_discharge_validation_input[:,0]), marker='.', s=10)\n",
    "ax.set_xlabel(\"Load [kWh]\")\n",
    "ax.set_ylabel(\"Δ Inventory [%]\")"
   ]
  },
  {
   "cell_type": "code",
   "execution_count": null,
   "metadata": {
    "tags": []
   },
   "outputs": [],
   "source": [
    "scaled_data_2019_10_22_run1 = data_files_fromS3('.PATH/sHeader.csv', '.PATH/scaledData.csv', \"S3 BUCKET\")\n",
    "scaled_data_2019_10_22_run1 = scaled_data_2019_10_22_run1.resample('10T').mean()\n",
    "original_charge_validation_input, original_charge_validation_output, _ = datapreprocessing(scaled_data_2019_10_22_run1, False)\n",
    "\n",
    "\n",
    "\n",
    "fig = plt.figure()\n",
    "ax = fig.add_subplot()\n",
    "fig.set_dpi(450)\n",
    "ax.scatter(original_charge_validation_input[:,1], (original_charge_validation_output.flatten() - original_charge_validation_input[:,0].flatten()),  marker='.', s=10)\n",
    "ax.set_ylabel(\"Δ Inventory [%]\")\n",
    "ax.set_xlabel(\"Load [kWh]\")"
   ]
  },
  {
   "cell_type": "code",
   "execution_count": null,
   "metadata": {
    "tags": []
   },
   "outputs": [],
   "source": [
    "scaled_data_2019_10_22_run1 = data_files_fromS3('.PATH/sHeader.csv', '.PATH/scaledData.csv', \"S3 BUCKET\")\n",
    "scaled_data_2019_10_22_run1[:70]"
   ]
  },
  {
   "cell_type": "code",
   "execution_count": null,
   "metadata": {
    "tags": []
   },
   "outputs": [],
   "source": [
    "scaled_data_2019_10_22_run1 = scaled_data_2019_10_22_run1.resample('10T').mean()\n",
    "scaled_data_2019_10_22_run1"
   ]
  },
  {
   "cell_type": "code",
   "execution_count": null,
   "metadata": {},
   "outputs": [],
   "source": [
    "scaled_data_2018_05_17_run2 = data_files_fromS3('.PATH/sHeader.csv', '.PATH/scaledData.csv', \"S3 BUCKET\")\n",
    "scaled_data_2018_05_17_run2 = scaled_data_2018_05_17_run2.resample('10T').mean()\n",
    "original_discharge_training_input, original_discharge_training_output, _ = datapreprocessing(scaled_data_2018_05_17_run2, False, True)"
   ]
  },
  {
   "cell_type": "markdown",
   "metadata": {},
   "source": [
    "fig = plt.figure()\n",
    "ax = fig.add_subplot()\n",
    "fig.set_dpi(450)\n",
    "ax.scatter((to_ts_meter.flatten() - from_ts_meter.flatten()), load, marker='.', s=10, label='Integrated Load Data')\n",
    "ax.set_title(\"Discharge Mode Load Data\", fontdict={'fontsize': 10})\n",
    "ax.legend()\n",
    "ax.legend(loc=2, prop={'size': 6})\n",
    "ax.set_ylabel(\"Load [kWh]\")\n",
    "ax.set_xlabel(\"Δ Inventory [%]\")"
   ]
  },
  {
   "cell_type": "markdown",
   "metadata": {},
   "source": [
    "## Gaussian Process"
   ]
  },
  {
   "cell_type": "markdown",
   "metadata": {},
   "source": [
    "### Discharge Mode"
   ]
  },
  {
   "cell_type": "code",
   "execution_count": null,
   "metadata": {},
   "outputs": [],
   "source": [
    "k = gpflow.kernels.Linear([1., 1.])"
   ]
  },
  {
   "cell_type": "code",
   "execution_count": null,
   "metadata": {},
   "outputs": [],
   "source": [
    "print_summary(k)"
   ]
  },
  {
   "cell_type": "code",
   "execution_count": null,
   "metadata": {},
   "outputs": [],
   "source": [
    "m = gpflow.models.GPR(data=(original_discharge_training_input, original_discharge_training_output), kernel=k, mean_function=None)"
   ]
  },
  {
   "cell_type": "code",
   "execution_count": null,
   "metadata": {},
   "outputs": [],
   "source": [
    "print_summary(m)"
   ]
  },
  {
   "cell_type": "code",
   "execution_count": null,
   "metadata": {},
   "outputs": [],
   "source": [
    "opt = gpflow.optimizers.Scipy()"
   ]
  },
  {
   "cell_type": "code",
   "execution_count": null,
   "metadata": {},
   "outputs": [],
   "source": [
    "opt_logs = opt.minimize(\n",
    "    m.training_loss, m.trainable_variables, options=dict(maxiter=1000)\n",
    ")\n",
    "print_summary(m)"
   ]
  },
  {
   "cell_type": "code",
   "execution_count": null,
   "metadata": {},
   "outputs": [],
   "source": [
    "GP_prediction_mean_discharge_mode_training, GP_prediction_variance_discharge_mode_training = m.predict_f(dataset_ts_meter)"
   ]
  },
  {
   "cell_type": "code",
   "execution_count": null,
   "metadata": {},
   "outputs": [],
   "source": [
    "from sklearn.metrics import mean_squared_error\n",
    "mean_squared_error(GP_prediction_mean_discharge_mode_training.numpy().flatten(), to_ts_meter, squared=False)"
   ]
  },
  {
   "cell_type": "code",
   "execution_count": null,
   "metadata": {},
   "outputs": [],
   "source": []
  },
  {
   "cell_type": "markdown",
   "metadata": {},
   "source": [
    "#### Validation"
   ]
  },
  {
   "cell_type": "code",
   "execution_count": null,
   "metadata": {},
   "outputs": [],
   "source": [
    "scaled_data_2018_05_09_run1 = data_files_fromS3('.PATH/sHeader.csv', '.PATH/scaledData.csv', \"S3 BUCKET\")\n",
    "scaled_data_2018_05_09_run1 = scaled_data_2018_05_09_run1.resample('10T').mean()\n",
    "original_discharge_validation_input, original_discharge_validation_output, _ = datapreprocessing(scaled_data_2018_05_09_run1, False)"
   ]
  },
  {
   "cell_type": "code",
   "execution_count": null,
   "metadata": {},
   "outputs": [],
   "source": [
    "GP_prediction_mean_discharge_mode, GP_prediction_variance_discharge_mode = m.predict_f(original_discharge_validation_input)"
   ]
  },
  {
   "cell_type": "markdown",
   "metadata": {},
   "source": [
    "saver = gpflow.saver.Saver()\n",
    "saver.save('/tmp/model', m)"
   ]
  },
  {
   "cell_type": "markdown",
   "metadata": {},
   "source": [
    "tf.saved_model.save(m, './model')"
   ]
  },
  {
   "cell_type": "markdown",
   "metadata": {},
   "source": [
    "load_model = tf.saved_model.load('./model')"
   ]
  },
  {
   "cell_type": "markdown",
   "metadata": {},
   "source": [
    "print_summary(load_model)"
   ]
  },
  {
   "cell_type": "markdown",
   "metadata": {},
   "source": [
    "GP_prediction_mean_discharge_mode"
   ]
  },
  {
   "cell_type": "markdown",
   "metadata": {},
   "source": [
    "GP_prediction_variance_discharge_mode"
   ]
  },
  {
   "cell_type": "code",
   "execution_count": null,
   "metadata": {},
   "outputs": [],
   "source": [
    "x1 = GP_prediction_mean_discharge_mode.numpy().flatten()"
   ]
  },
  {
   "cell_type": "markdown",
   "metadata": {},
   "source": [
    "np.sqrt(np.mean((x1-to_ts_meter)**2))"
   ]
  },
  {
   "cell_type": "markdown",
   "metadata": {},
   "source": [
    "(GP_prediction_mean_discharge_mode - GP_prediction_variance_discharge_mode).shape"
   ]
  },
  {
   "cell_type": "markdown",
   "metadata": {},
   "source": [
    "sortedArr"
   ]
  },
  {
   "cell_type": "markdown",
   "metadata": {},
   "source": [
    "sortedArr[0].shape"
   ]
  },
  {
   "cell_type": "code",
   "execution_count": null,
   "metadata": {},
   "outputs": [],
   "source": [
    "from sklearn.metrics import mean_squared_error\n",
    "mean_squared_error(x1, original_discharge_validation_output, squared=False)"
   ]
  },
  {
   "cell_type": "code",
   "execution_count": null,
   "metadata": {},
   "outputs": [],
   "source": [
    "fig = plt.figure()\n",
    "ax = fig.add_subplot()\n",
    "fig.set_dpi(450)\n",
    "ax.scatter(to_ts_meter, GP_prediction_mean_discharge_mode.numpy().flatten(), marker='.', s=10, label='Prediction', color='red')\n",
    "ax.plot(to_ts_meter, to_ts_meter, label='Perfect')\n",
    "ax.set_title(\"Final Ice Inventory\", fontdict={'fontsize': 10})\n",
    "ax.legend()\n",
    "ax.legend(loc=2, prop={'size': 6})\n",
    "ax.set_xlabel(\"Actual [%]\")\n",
    "ax.set_ylabel(\"Prediction [%]\")"
   ]
  },
  {
   "cell_type": "code",
   "execution_count": null,
   "metadata": {},
   "outputs": [],
   "source": [
    "fig = plt.figure()\n",
    "ax = fig.add_subplot()\n",
    "fig.set_dpi(450)\n",
    "ax.scatter(original_discharge_validation_input[:,1], (x1 - original_discharge_validation_input[:,0]), marker='.', s=10, label='Prediction', color='red')\n",
    "ax.scatter(original_discharge_validation_input[:,1], (original_discharge_validation_output.flatten() - original_discharge_validation_input[:,0]), marker='.', s=10, label='Actual')\n",
    "ax.set_title(\"Load vs Change in ice inventory\", fontdict={'fontsize': 10})\n",
    "ax.legend()\n",
    "ax.legend(loc=2, prop={'size': 6})\n",
    "ax.set_xlabel(\"Load [kWh]\")\n",
    "ax.set_ylabel(\"Δ Inventory [%]\")"
   ]
  },
  {
   "cell_type": "code",
   "execution_count": null,
   "metadata": {},
   "outputs": [],
   "source": [
    "scaled_data_2018_05_17_run2 = data_files_fromS3('.PATH/sHeader.csv', '.PATH/scaledData.csv', \"S3 BUCKET\")\n",
    "scaled_data_2018_05_17_run2 = scaled_data_2018_05_17_run2.resample('10T').mean()\n",
    "original_discharge_training_input_smooth_filter, original_discharge_training_output_filter, _ = datapreprocessing(scaled_data_2018_05_17_run2, True, True)"
   ]
  },
  {
   "cell_type": "code",
   "execution_count": null,
   "metadata": {},
   "outputs": [],
   "source": [
    "scaled_data_2018_05_09_run1 = data_files_fromS3('.PATH/sHeader.csv', '.PATH/scaledData.csv', \"S3 BUCKET\")\n",
    "scaled_data_2018_05_09_run1 = scaled_data_2018_05_09_run1.resample('10T').mean()\n",
    "original_discharge_validation_input_smooth, original_discharge_validation_output, _ = datapreprocessing(scaled_data_2018_05_09_run1, True, True)"
   ]
  },
  {
   "cell_type": "code",
   "execution_count": null,
   "metadata": {},
   "outputs": [],
   "source": [
    "import scipy"
   ]
  },
  {
   "cell_type": "code",
   "execution_count": null,
   "metadata": {},
   "outputs": [],
   "source": [
    "distribution1 = [np.mean()]"
   ]
  },
  {
   "cell_type": "code",
   "execution_count": null,
   "metadata": {},
   "outputs": [],
   "source": [
    "scipy.special.rel_entr(original_discharge_training_input_smooth_filter, original_discharge_validation_input_smooth)"
   ]
  },
  {
   "cell_type": "code",
   "execution_count": null,
   "metadata": {},
   "outputs": [],
   "source": [
    "scipy.spatial.distance.jensenshannon(original_discharge_training_input_smooth_filter, original_discharge_validation_input_smooth)"
   ]
  },
  {
   "cell_type": "code",
   "execution_count": null,
   "metadata": {},
   "outputs": [],
   "source": []
  },
  {
   "cell_type": "code",
   "execution_count": null,
   "metadata": {},
   "outputs": [],
   "source": []
  },
  {
   "cell_type": "markdown",
   "metadata": {},
   "source": [
    "#### Smooth Discharge mode data"
   ]
  },
  {
   "cell_type": "code",
   "execution_count": null,
   "metadata": {},
   "outputs": [],
   "source": []
  },
  {
   "cell_type": "code",
   "execution_count": null,
   "metadata": {},
   "outputs": [],
   "source": [
    "scaled_data_2018_05_17_run2 = data_files_fromS3('.PATH/sHeader.csv', '.PATH/scaledData.csv', \"S3 BUCKET\")\n",
    "scaled_data_2018_05_17_run2 = scaled_data_2018_05_17_run2.resample('10T').mean()\n",
    "original_discharge_training_input_smooth, original_discharge_training_output, _ = datapreprocessing(scaled_data_2018_05_17_run2, True)"
   ]
  },
  {
   "cell_type": "code",
   "execution_count": null,
   "metadata": {},
   "outputs": [],
   "source": [
    "fig = plt.figure()\n",
    "ax = fig.add_subplot()\n",
    "fig.set_dpi(450)\n",
    "ax.scatter( [x for x in range(0, len(smooth_ts_f))],smooth_ts_f.flatten(), marker='o', s=10, label='Prediction', color='red')\n",
    "ax.scatter( [x for x in range(0, len(ts_f))], ts_f.flatten(), marker='.', s=10, label='Prediction', color='blue')"
   ]
  },
  {
   "cell_type": "code",
   "execution_count": null,
   "metadata": {},
   "outputs": [],
   "source": [
    "k = gpflow.kernels.Linear([1., 1.])"
   ]
  },
  {
   "cell_type": "code",
   "execution_count": null,
   "metadata": {},
   "outputs": [],
   "source": [
    "print_summary(k)"
   ]
  },
  {
   "cell_type": "code",
   "execution_count": null,
   "metadata": {},
   "outputs": [],
   "source": [
    "m = gpflow.models.GPR(data=(original_discharge_training_input_smooth, original_discharge_training_output), kernel=k, mean_function=None)"
   ]
  },
  {
   "cell_type": "code",
   "execution_count": null,
   "metadata": {},
   "outputs": [],
   "source": [
    "print_summary(m)"
   ]
  },
  {
   "cell_type": "code",
   "execution_count": null,
   "metadata": {},
   "outputs": [],
   "source": [
    "opt = gpflow.optimizers.Scipy()"
   ]
  },
  {
   "cell_type": "code",
   "execution_count": null,
   "metadata": {},
   "outputs": [],
   "source": [
    "opt_logs = opt.minimize(\n",
    "    m.training_loss, m.trainable_variables, options=dict(maxiter=1000)\n",
    ")\n",
    "print_summary(m)"
   ]
  },
  {
   "cell_type": "code",
   "execution_count": null,
   "metadata": {},
   "outputs": [],
   "source": [
    "GP_prediction_mean_discharge_mode_training_smooth, GP_prediction_variance_discharge_mode_training_smooth = m.predict_f(dataset_ts_meter)"
   ]
  },
  {
   "cell_type": "code",
   "execution_count": null,
   "metadata": {},
   "outputs": [],
   "source": [
    "mean_squared_error(GP_prediction_mean_discharge_mode_training_smooth.numpy().flatten(), to_ts_meter, squared=False)"
   ]
  },
  {
   "cell_type": "markdown",
   "metadata": {},
   "source": [
    "#### Validation"
   ]
  },
  {
   "cell_type": "code",
   "execution_count": null,
   "metadata": {},
   "outputs": [],
   "source": [
    "scaled_data_2018_05_09_run1 = data_files_fromS3('.PATH/sHeader.csv', '.PATH/scaledData.csv', \"S3 BUCKET\")\n",
    "scaled_data_2018_05_09_run1 = scaled_data_2018_05_09_run1.resample('10T').mean()\n",
    "original_discharge_validation_input_smooth, original_discharge_validation_output, _ = datapreprocessing(scaled_data_2018_05_09_run1, True)"
   ]
  },
  {
   "cell_type": "code",
   "execution_count": null,
   "metadata": {},
   "outputs": [],
   "source": [
    "GP_prediction_mean_discharge_mode, GP_prediction_variance_discharge_mode = m.predict_f(original_discharge_validation_input_smooth)"
   ]
  },
  {
   "cell_type": "code",
   "execution_count": null,
   "metadata": {},
   "outputs": [],
   "source": [
    "x1 = GP_prediction_mean_discharge_mode.numpy().flatten()"
   ]
  },
  {
   "cell_type": "markdown",
   "metadata": {},
   "source": [
    "np.sqrt(np.mean((x1-to_ts_meter)**2))"
   ]
  },
  {
   "cell_type": "code",
   "execution_count": null,
   "metadata": {},
   "outputs": [],
   "source": [
    "original_discharge_validation_output.shape"
   ]
  },
  {
   "cell_type": "code",
   "execution_count": null,
   "metadata": {},
   "outputs": [],
   "source": [
    "mean_squared_error(original_discharge_validation_output, GP_prediction_mean_discharge_mode, squared=False)"
   ]
  },
  {
   "cell_type": "code",
   "execution_count": null,
   "metadata": {},
   "outputs": [],
   "source": [
    "fig = plt.figure()\n",
    "ax = fig.add_subplot()\n",
    "fig.set_dpi(450)\n",
    "ax.scatter(to_ts_meter, x1, marker='.', s=10, label='Prediction', color='red')\n",
    "ax.plot(to_ts_meter, to_ts_meter, label='Perfect')\n",
    "ax.set_title(\"Final Ice Inventory\", fontdict={'fontsize': 10})\n",
    "ax.legend()\n",
    "ax.legend(loc=2, prop={'size': 6})\n",
    "ax.set_xlabel(\"Actual [%]\")\n",
    "ax.set_ylabel(\"Prediction [%]\")"
   ]
  },
  {
   "cell_type": "code",
   "execution_count": null,
   "metadata": {},
   "outputs": [],
   "source": [
    "fig = plt.figure()\n",
    "ax = fig.add_subplot()\n",
    "fig.set_dpi(450)\n",
    "ax.scatter(original_discharge_validation_input_smooth[:,1], (x1 - original_discharge_validation_input_smooth[:,0]), marker='.', s=10, label='Prediction', color='red')\n",
    "ax.scatter(original_discharge_validation_input_smooth[:,1], (original_discharge_validation_output.flatten() - original_discharge_validation_input_smooth[:,0].flatten()), marker='.', s=10, label='Actual')\n",
    "ax.set_title(\"Load vs Change in ice inventory\", fontdict={'fontsize': 10})\n",
    "ax.legend()\n",
    "ax.legend(loc=2, prop={'size': 6})\n",
    "ax.set_ylabel(\"Δ Inventory [%]\")\n",
    "ax.set_xlabel(\"Load [kWh]\")"
   ]
  },
  {
   "cell_type": "markdown",
   "metadata": {},
   "source": [
    "### Charging mode"
   ]
  },
  {
   "cell_type": "code",
   "execution_count": null,
   "metadata": {},
   "outputs": [],
   "source": [
    "scaled_data_2019_10_08_run1 = data_files_fromS3('.PATH/sHeader.csv', '.PATH/scaledData.csv', \"S3 BUCKET\")\n",
    "scaled_data_2019_10_08_run1 = scaled_data_2019_10_08_run1.resample('10T').mean()\n",
    "original_charge_training_input, original_charge_training_output, _ = datapreprocessing(scaled_data_2019_10_08_run1, False)"
   ]
  },
  {
   "cell_type": "code",
   "execution_count": null,
   "metadata": {},
   "outputs": [],
   "source": [
    "k = gpflow.kernels.Linear([1., 1.])"
   ]
  },
  {
   "cell_type": "code",
   "execution_count": null,
   "metadata": {},
   "outputs": [],
   "source": [
    "print_summary(k)"
   ]
  },
  {
   "cell_type": "code",
   "execution_count": null,
   "metadata": {},
   "outputs": [],
   "source": [
    "m = gpflow.models.GPR(data=(original_charge_training_input, original_charge_training_output), kernel=k, mean_function=None)"
   ]
  },
  {
   "cell_type": "code",
   "execution_count": null,
   "metadata": {},
   "outputs": [],
   "source": [
    "print_summary(m)"
   ]
  },
  {
   "cell_type": "code",
   "execution_count": null,
   "metadata": {},
   "outputs": [],
   "source": [
    "opt = gpflow.optimizers.Scipy()"
   ]
  },
  {
   "cell_type": "markdown",
   "metadata": {},
   "source": [
    "opt = gpflow.train.AdamOptimizer(0.01)"
   ]
  },
  {
   "cell_type": "code",
   "execution_count": null,
   "metadata": {},
   "outputs": [],
   "source": [
    "opt_logs = opt.minimize(\n",
    "    m.training_loss, m.trainable_variables, options=dict(maxiter=1000)\n",
    ")\n",
    "print_summary(m)"
   ]
  },
  {
   "cell_type": "code",
   "execution_count": null,
   "metadata": {},
   "outputs": [],
   "source": [
    "GP_prediction_mean_charge_mode_training, GP_prediction_variance_charge_mode_training = m.predict_f(dataset_ts_meter)"
   ]
  },
  {
   "cell_type": "code",
   "execution_count": null,
   "metadata": {},
   "outputs": [],
   "source": [
    "from sklearn.metrics import mean_squared_error\n",
    "mean_squared_error(GP_prediction_mean_charge_mode_training.numpy().flatten(), to_ts_meter, squared=False)"
   ]
  },
  {
   "cell_type": "markdown",
   "metadata": {},
   "source": [
    "#### Validation"
   ]
  },
  {
   "cell_type": "code",
   "execution_count": null,
   "metadata": {},
   "outputs": [],
   "source": [
    "scaled_data_2019_10_22_run1 = data_files_fromS3('.PATH/sHeader.csv', '.PATH/scaledData.csv', \"S3 BUCKET\")\n",
    "scaled_data_2019_10_22_run1 = scaled_data_2019_10_22_run1.resample('10T').mean()\n",
    "original_charge_validation_input, original_charge_validation_output, _ = datapreprocessing(scaled_data_2019_10_22_run1, False)"
   ]
  },
  {
   "cell_type": "code",
   "execution_count": null,
   "metadata": {},
   "outputs": [],
   "source": [
    "GP_prediction_mean_charge_mode, GP_prediction_variance_charge_mode = m.predict_f(original_charge_validation_input)"
   ]
  },
  {
   "cell_type": "markdown",
   "metadata": {},
   "source": [
    "tf.random.set_seed(1)  \n",
    "samples = m.predict_f_samples(dataset_ts_meter, 10)"
   ]
  },
  {
   "cell_type": "code",
   "execution_count": null,
   "metadata": {},
   "outputs": [],
   "source": [
    "fig = plt.figure()\n",
    "ax = fig.add_subplot()\n",
    "fig.set_dpi(450)\n",
    "ax.scatter(load, (to_ts_meter - from_ts_meter), marker='.', s=10, label='Raw Data Integrated Load')\n",
    "ax.set_title(\"Charge mode Raw Data\", fontdict={'fontsize': 10})\n",
    "ax.legend()\n",
    "ax.legend(loc=2, prop={'size': 6})\n",
    "ax.set_xlabel(\"Δ Inventory [%]\")\n",
    "ax.set_ylabel(\"Load [kWh]\")"
   ]
  },
  {
   "cell_type": "code",
   "execution_count": null,
   "metadata": {},
   "outputs": [],
   "source": [
    "mean_squared_error(original_charge_validation_output, GP_prediction_mean_charge_mode, squared=False)"
   ]
  },
  {
   "cell_type": "code",
   "execution_count": null,
   "metadata": {},
   "outputs": [],
   "source": [
    "x1 = GP_prediction_mean_charge_mode.numpy().flatten()"
   ]
  },
  {
   "cell_type": "code",
   "execution_count": null,
   "metadata": {},
   "outputs": [],
   "source": [
    "fig = plt.figure()\n",
    "ax = fig.add_subplot()\n",
    "fig.set_dpi(450)\n",
    "ax.scatter(original_charge_validation_input[:,1], (x1 - original_charge_validation_input[:,0].flatten()), marker='.', s=10, label='Prediction', color='red')\n",
    "ax.scatter(original_charge_validation_input[:,1], (original_charge_validation_output.flatten() - original_charge_validation_input[:,0].flatten()),  marker='.', s=10, label='Actual')\n",
    "ax.set_title(\"Load vs Change in ice inventory\", fontdict={'fontsize': 10})\n",
    "ax.legend()\n",
    "ax.legend(loc=2, prop={'size': 6})\n",
    "ax.set_ylabel(\"Δ Inventory [%]\")\n",
    "ax.set_xlabel(\"Load [kWh]\")"
   ]
  },
  {
   "cell_type": "code",
   "execution_count": null,
   "metadata": {},
   "outputs": [],
   "source": [
    "fig = plt.figure()\n",
    "ax = fig.add_subplot()\n",
    "fig.set_dpi(450)\n",
    "ax.scatter(to_ts_meter, GP_prediction_mean_charge_mode, marker='.', s=10, label='Prediction', color='red')\n",
    "ax.plot(to_ts_meter, to_ts_meter, label='Perfect')\n",
    "ax.set_title(\"Actual vs Prediction of Final Ice Inventory\", fontdict={'fontsize': 10})\n",
    "ax.legend()\n",
    "ax.legend(loc=2, prop={'size': 6})\n",
    "ax.set_xlabel(\"Actual [%]\")\n",
    "ax.set_ylabel(\"Prediction [%]\")"
   ]
  },
  {
   "cell_type": "code",
   "execution_count": null,
   "metadata": {},
   "outputs": [],
   "source": [
    "fig = plt.figure()\n",
    "ax = fig.add_subplot()\n",
    "fig.set_dpi(450)\n",
    "ax.scatter(load, (GP_prediction_mean_charge_mode), marker='.', s=10, label='Predicted', color='red')\n",
    "ax.scatter(load, (to_ts_meter),  marker='.', s=10, label='Actual')\n",
    "ax.legend()\n",
    "ax.legend(loc=2, prop={'size': 6})\n",
    "ax.set_xlabel(\"Δ Inventory [%]\")\n",
    "ax.set_ylabel(\"Load [kWh]\")"
   ]
  },
  {
   "cell_type": "code",
   "execution_count": null,
   "metadata": {},
   "outputs": [],
   "source": []
  },
  {
   "cell_type": "code",
   "execution_count": null,
   "metadata": {},
   "outputs": [],
   "source": [
    "instantaneous_load"
   ]
  },
  {
   "cell_type": "code",
   "execution_count": null,
   "metadata": {},
   "outputs": [],
   "source": [
    "load_met = pd.Series(load.flatten())\n",
    "final_ice_inventory = pd.Series(to_ts_meter.flatten())\n",
    "initial_ice_inventory = pd.Series(from_ts_meter.flatten())\n",
    "load_data = pd.DataFrame()\n",
    "load_data[\"Initial [%]\"] = initial_ice_inventory\n",
    "load_data[\"Load [kWh]\"] = load_met\n",
    "load_data[\"Final [%]\"] = final_ice_inventory"
   ]
  },
  {
   "cell_type": "code",
   "execution_count": null,
   "metadata": {},
   "outputs": [],
   "source": [
    "load_data[:10]"
   ]
  },
  {
   "cell_type": "code",
   "execution_count": null,
   "metadata": {},
   "outputs": [],
   "source": []
  },
  {
   "cell_type": "markdown",
   "metadata": {},
   "source": [
    "## Discharge Mode - Interpolation"
   ]
  },
  {
   "cell_type": "code",
   "execution_count": null,
   "metadata": {},
   "outputs": [],
   "source": [
    "scaled_data_2018_05_17_run2 = data_files_fromS3('.PATH/sHeader.csv', '.PATH/scaledData.csv', \"S3 BUCKET\")\n",
    "scaled_data_2018_05_17_run2 = scaled_data_2018_05_17_run2.resample('10T').mean()\n",
    "original_discharge_training_input, original_discharge_training_output, _ = datapreprocessing(scaled_data_2018_05_17_run2, False)"
   ]
  },
  {
   "cell_type": "code",
   "execution_count": null,
   "metadata": {},
   "outputs": [],
   "source": [
    "import numpy as np\n",
    "from scipy.interpolate import LinearNDInterpolator\n",
    "interp = LinearNDInterpolator(original_discharge_training_input, original_discharge_training_output)"
   ]
  },
  {
   "cell_type": "code",
   "execution_count": null,
   "metadata": {},
   "outputs": [],
   "source": [
    "Interp__prediction_to_ts_meter_discharge_mode = interp(dataset_ts_meter)\n",
    "x1 = Interp__prediction_to_ts_meter_discharge_mode.flatten()\n",
    "indices = np.argwhere(np.isnan(x1))\n",
    "new_to_ts_meter = np.delete(to_ts_meter, indices)\n",
    "new_x1 = np.delete(x1, indices)\n",
    "mean_squared_error(new_to_ts_meter, new_x1, squared=False)"
   ]
  },
  {
   "cell_type": "markdown",
   "metadata": {},
   "source": [
    "#### Validation"
   ]
  },
  {
   "cell_type": "code",
   "execution_count": null,
   "metadata": {},
   "outputs": [],
   "source": [
    "scaled_data_2018_05_09_run1 = data_files_fromS3('.PATH/sHeader.csv', '.PATH/scaledData.csv', \"S3 BUCKET\")\n",
    "scaled_data_2018_05_09_run1 = scaled_data_2018_05_09_run1.resample('10T').mean()\n",
    "original_discharge_validation_input, original_discharge_validation_output, _ = datapreprocessing(scaled_data_2018_05_09_run1, False)"
   ]
  },
  {
   "cell_type": "code",
   "execution_count": null,
   "metadata": {},
   "outputs": [],
   "source": [
    "Interp__prediction_to_ts_meter_discharge_mode = interp(original_discharge_validation_input)"
   ]
  },
  {
   "cell_type": "code",
   "execution_count": null,
   "metadata": {},
   "outputs": [],
   "source": [
    "x1 = Interp__prediction_to_ts_meter_discharge_mode.flatten()"
   ]
  },
  {
   "cell_type": "markdown",
   "metadata": {},
   "source": [
    "### fewer points in RMSE than other models so mention this point"
   ]
  },
  {
   "cell_type": "code",
   "execution_count": null,
   "metadata": {},
   "outputs": [],
   "source": [
    "np.count_nonzero(~np.isnan(x1))"
   ]
  },
  {
   "cell_type": "code",
   "execution_count": null,
   "metadata": {},
   "outputs": [],
   "source": [
    "indices = np.argwhere(np.isnan(x1))"
   ]
  },
  {
   "cell_type": "code",
   "execution_count": null,
   "metadata": {},
   "outputs": [],
   "source": [
    "new_to_ts_meter = np.delete(original_discharge_validation_output, indices)"
   ]
  },
  {
   "cell_type": "code",
   "execution_count": null,
   "metadata": {},
   "outputs": [],
   "source": [
    "new_to_ts_meter.shape"
   ]
  },
  {
   "cell_type": "code",
   "execution_count": null,
   "metadata": {},
   "outputs": [],
   "source": [
    "new_x1 = np.delete(x1, indices)"
   ]
  },
  {
   "cell_type": "code",
   "execution_count": null,
   "metadata": {},
   "outputs": [],
   "source": [
    "mean_squared_error(new_to_ts_meter, new_x1, squared=False)"
   ]
  },
  {
   "cell_type": "code",
   "execution_count": null,
   "metadata": {},
   "outputs": [],
   "source": [
    "Interp__prediction_to_ts_meter_discharge_mode"
   ]
  },
  {
   "cell_type": "code",
   "execution_count": null,
   "metadata": {},
   "outputs": [],
   "source": [
    "fig = plt.figure()\n",
    "ax = fig.add_subplot()\n",
    "fig.set_dpi(450)\n",
    "ax.scatter(to_ts_meter, Interp__prediction_to_ts_meter_discharge_mode, marker='.', s=10, label='Prediction', color='Red')\n",
    "ax.set_title(\"Final Ice Inventory\", fontdict={'fontsize': 10})\n",
    "ax.plot(to_ts_meter, to_ts_meter, label='Perfect')\n",
    "ax.legend()\n",
    "ax.legend(loc=2, prop={'size': 6})\n",
    "ax.set_xlabel(\"Actual [%]\")\n",
    "ax.set_ylabel(\"Prediction [%]\")"
   ]
  },
  {
   "cell_type": "code",
   "execution_count": null,
   "metadata": {},
   "outputs": [],
   "source": [
    "Interp__prediction_to_ts_meter_discharge_mode.flatten().shape"
   ]
  },
  {
   "cell_type": "code",
   "execution_count": null,
   "metadata": {},
   "outputs": [],
   "source": [
    "fig = plt.figure()\n",
    "ax = fig.add_subplot()\n",
    "fig.set_dpi(450)\n",
    "ax.scatter(original_discharge_validation_input[:,1], (Interp__prediction_to_ts_meter_discharge_mode.flatten() - original_discharge_validation_input[:,0].flatten()), marker='.', s=10, label='Prediction', color='Red')\n",
    "ax.scatter(original_discharge_validation_input[:,1], (original_discharge_validation_output.flatten() - original_discharge_validation_input[:,0].flatten()), marker='.', s=10, label='Actual')\n",
    "ax.set_title(\"Load vs Change in ice inventory\", fontdict={'fontsize': 10})\n",
    "ax.legend()\n",
    "ax.legend(loc=2, prop={'size': 6})\n",
    "ax.set_ylabel(\"Δ Inventory [%]\")\n",
    "ax.set_xlabel(\"Load [kWh]\")"
   ]
  },
  {
   "cell_type": "markdown",
   "metadata": {},
   "source": [
    "#### Smooth Discharge mode data"
   ]
  },
  {
   "cell_type": "code",
   "execution_count": null,
   "metadata": {},
   "outputs": [],
   "source": [
    "scaled_data_2018_05_17_run2 = data_files_fromS3('.PATH/sHeader.csv', '.PATH/scaledData.csv', \"S3 BUCKET\")\n",
    "scaled_data_2018_05_17_run2 = scaled_data_2018_05_17_run2.resample('10T').mean()\n",
    "original_discharge_training_input_smooth, original_discharge_training_output, _ = datapreprocessing(scaled_data_2018_05_17_run2, True)"
   ]
  },
  {
   "cell_type": "code",
   "execution_count": null,
   "metadata": {},
   "outputs": [],
   "source": [
    "import numpy as np\n",
    "from scipy.interpolate import LinearNDInterpolator\n",
    "interp = LinearNDInterpolator(original_discharge_training_input_smooth, original_discharge_training_output)"
   ]
  },
  {
   "cell_type": "code",
   "execution_count": null,
   "metadata": {},
   "outputs": [],
   "source": [
    "Interp__prediction_to_ts_meter_discharge_mode = interp(dataset_ts_meter)\n",
    "x1 = Interp__prediction_to_ts_meter_discharge_mode.flatten()\n",
    "indices = np.argwhere(np.isnan(x1))\n",
    "new_to_ts_meter = np.delete(to_ts_meter, indices)\n",
    "new_x1 = np.delete(x1, indices)\n",
    "mean_squared_error(new_to_ts_meter, new_x1, squared=False)"
   ]
  },
  {
   "cell_type": "markdown",
   "metadata": {},
   "source": [
    "#### Validation"
   ]
  },
  {
   "cell_type": "code",
   "execution_count": null,
   "metadata": {},
   "outputs": [],
   "source": [
    "scaled_data_2018_05_09_run1 = data_files_fromS3('.PATH/sHeader.csv', '.PATH/scaledData.csv', \"S3 BUCKET\")\n",
    "scaled_data_2018_05_09_run1 = scaled_data_2018_05_09_run1.resample('10T').mean()\n",
    "original_discharge_validation_input_smooth, original_discharge_validation_output, _ = datapreprocessing(scaled_data_2018_05_09_run1, True)"
   ]
  },
  {
   "cell_type": "code",
   "execution_count": null,
   "metadata": {},
   "outputs": [],
   "source": [
    "Interp__prediction_to_ts_meter_discharge_mode_smooth = interp(original_discharge_validation_input_smooth)"
   ]
  },
  {
   "cell_type": "code",
   "execution_count": null,
   "metadata": {},
   "outputs": [],
   "source": [
    "x1 = Interp__prediction_to_ts_meter_discharge_mode_smooth.flatten()\n",
    "indices = np.argwhere(np.isnan(x1))\n",
    "new_to_ts_meter = np.delete(original_discharge_validation_output, indices)\n",
    "new_x1 = np.delete(x1, indices)"
   ]
  },
  {
   "cell_type": "code",
   "execution_count": null,
   "metadata": {},
   "outputs": [],
   "source": [
    "mean_squared_error(new_to_ts_meter, new_x1, squared=False)"
   ]
  },
  {
   "cell_type": "code",
   "execution_count": null,
   "metadata": {},
   "outputs": [],
   "source": [
    "fig = plt.figure()\n",
    "ax = fig.add_subplot()\n",
    "fig.set_dpi(450)\n",
    "ax.scatter(to_ts_meter, x1, marker='.', s=10, label='Prediction', color='Red')\n",
    "ax.set_title(\"Final Ice Inventory\", fontdict={'fontsize': 10})\n",
    "ax.plot(to_ts_meter, to_ts_meter, label='Perfect')\n",
    "ax.legend(loc=2, prop={'size': 6})\n",
    "ax.set_xlabel(\"Actual [%]\")\n",
    "ax.set_ylabel(\"Prediction [%]\")"
   ]
  },
  {
   "cell_type": "code",
   "execution_count": null,
   "metadata": {},
   "outputs": [],
   "source": [
    "fig = plt.figure()\n",
    "ax = fig.add_subplot()\n",
    "fig.set_dpi(450)\n",
    "ax.scatter(original_discharge_validation_input[:,1], (x1 - original_discharge_validation_input[:,0].flatten()), marker='.', s=10, label='Prediction', color='Red')\n",
    "ax.scatter(original_discharge_validation_input[:,1], (original_discharge_validation_output.flatten() - original_discharge_validation_input[:,0].flatten()), marker='.', s=10, label='Actual')\n",
    "ax.set_title(\"Load vs Change in ice inventory\", fontdict={'fontsize': 10})\n",
    "ax.legend()\n",
    "ax.legend(loc=2, prop={'size': 6})\n",
    "ax.set_ylabel(\"Δ Inventory [%]\")\n",
    "ax.set_xlabel(\"Load [kWh]\")"
   ]
  },
  {
   "cell_type": "code",
   "execution_count": null,
   "metadata": {},
   "outputs": [],
   "source": []
  },
  {
   "cell_type": "markdown",
   "metadata": {},
   "source": [
    "## Charging Mode"
   ]
  },
  {
   "cell_type": "code",
   "execution_count": null,
   "metadata": {},
   "outputs": [],
   "source": [
    "scaled_data_2019_10_08_run1 = data_files_fromS3('.PATH/sHeader.csv', '.PATH/scaledData.csv', \"S3 BUCKET\")\n",
    "scaled_data_2019_10_08_run1 = scaled_data_2019_10_08_run1.resample('10T').mean()\n",
    "original_charge_training_input, original_charge_training_output, _ = datapreprocessing(scaled_data_2019_10_08_run1, False)"
   ]
  },
  {
   "cell_type": "code",
   "execution_count": null,
   "metadata": {},
   "outputs": [],
   "source": [
    "import numpy as np\n",
    "from scipy.interpolate import LinearNDInterpolator\n",
    "interp = LinearNDInterpolator(original_charge_training_input, original_charge_training_output)"
   ]
  },
  {
   "cell_type": "code",
   "execution_count": null,
   "metadata": {},
   "outputs": [],
   "source": [
    "Interp__prediction_to_ts_meter_charge_mode = interp(from_ts_meter, load)\n",
    "x1 = Interp__prediction_to_ts_meter_charge_mode.flatten()\n",
    "indices = np.argwhere(np.isnan(x1))\n",
    "new_to_ts_meter = np.delete(to_ts_meter, indices)\n",
    "new_x1 = np.delete(x1, indices)\n",
    "mean_squared_error(new_to_ts_meter, new_x1, squared=False)"
   ]
  },
  {
   "cell_type": "markdown",
   "metadata": {},
   "source": [
    "#### Validation"
   ]
  },
  {
   "cell_type": "code",
   "execution_count": null,
   "metadata": {},
   "outputs": [],
   "source": [
    "scaled_data_2019_10_22_run1 = data_files_fromS3('.PATH/sHeader.csv', '.PATH/scaledData.csv', \"S3 BUCKET\")\n",
    "scaled_data_2019_10_22_run1 = scaled_data_2019_10_22_run1.resample('10T').mean()\n",
    "original_charge_validation_input, original_charge_validation_output, _ = datapreprocessing(scaled_data_2019_10_22_run1, False)"
   ]
  },
  {
   "cell_type": "code",
   "execution_count": null,
   "metadata": {},
   "outputs": [],
   "source": [
    "Interp__prediction_to_ts_meter_charge_mode = interp(original_charge_validation_input)"
   ]
  },
  {
   "cell_type": "code",
   "execution_count": null,
   "metadata": {},
   "outputs": [],
   "source": [
    "x1 = Interp__prediction_to_ts_meter_charge_mode.flatten()\n",
    "indices = np.argwhere(np.isnan(x1))\n",
    "new_to_ts_meter = np.delete(original_charge_validation_output, indices)\n",
    "new_x1 = np.delete(x1, indices)"
   ]
  },
  {
   "cell_type": "code",
   "execution_count": null,
   "metadata": {},
   "outputs": [],
   "source": [
    "mean_squared_error(new_to_ts_meter, new_x1, squared=False)"
   ]
  },
  {
   "cell_type": "code",
   "execution_count": null,
   "metadata": {},
   "outputs": [],
   "source": []
  },
  {
   "cell_type": "code",
   "execution_count": null,
   "metadata": {},
   "outputs": [],
   "source": []
  },
  {
   "cell_type": "code",
   "execution_count": null,
   "metadata": {},
   "outputs": [],
   "source": [
    "fig = plt.figure()\n",
    "ax = fig.add_subplot()\n",
    "fig.set_dpi(450)\n",
    "ax.scatter(to_ts_meter.flatten(), Interp__prediction_to_ts_meter_charge_mode.flatten(), marker='.', s=10, label='Prediction', color='Red')\n",
    "ax.plot(to_ts_meter.flatten(), to_ts_meter.flatten(), label='Perfect')\n",
    "ax.set_title(\"Actual vs Prediction of Final Ice Inventory\", fontdict={'fontsize': 10})\n",
    "ax.legend()\n",
    "ax.legend(loc=2, prop={'size': 6})\n",
    "ax.set_xlabel(\"Actual [%]\")\n",
    "ax.set_ylabel(\"Prediction [%]\")"
   ]
  },
  {
   "cell_type": "code",
   "execution_count": null,
   "metadata": {},
   "outputs": [],
   "source": [
    "fig = plt.figure()\n",
    "ax = fig.add_subplot()\n",
    "fig.set_dpi(450)\n",
    "ax.scatter(original_charge_validation_input[:,1], (Interp__prediction_to_ts_meter_charge_mode.flatten() - original_charge_validation_input[:,0].flatten()), marker='.', s=10, label='Prediction', color='red')\n",
    "ax.scatter(original_charge_validation_input[:,1], (original_charge_validation_output.flatten() - original_charge_validation_input[:,0].flatten()), marker='.', s=10, label='Actual')\n",
    "ax.set_title(\"Load vs Change in ice inventory\", fontdict={'fontsize': 10})\n",
    "ax.legend()\n",
    "ax.legend(loc=2, prop={'size': 6})\n",
    "ax.set_ylabel(\"Δ Inventory [%]\")\n",
    "ax.set_xlabel(\"Load [kWh]\")"
   ]
  },
  {
   "cell_type": "markdown",
   "metadata": {},
   "source": [
    "## Linear Regression - Discharge Mode"
   ]
  },
  {
   "cell_type": "code",
   "execution_count": null,
   "metadata": {},
   "outputs": [],
   "source": [
    "scaled_data_2018_05_17_run2 = data_files_fromS3('.PATH/sHeader.csv', '.PATH/scaledData.csv', \"S3 BUCKET\")\n",
    "scaled_data_2018_05_17_run2 = scaled_data_2018_05_17_run2.resample('10T').mean()\n",
    "original_discharge_training_input, original_discharge_training_output, _ = datapreprocessing(scaled_data_2018_05_17_run2, False)"
   ]
  },
  {
   "cell_type": "code",
   "execution_count": null,
   "metadata": {},
   "outputs": [],
   "source": [
    "regression_model = LinearRegression()\n",
    "regression_model.fit(original_discharge_training_input, original_discharge_training_output)"
   ]
  },
  {
   "cell_type": "code",
   "execution_count": null,
   "metadata": {},
   "outputs": [],
   "source": [
    "regression_model.coef_"
   ]
  },
  {
   "cell_type": "code",
   "execution_count": null,
   "metadata": {},
   "outputs": [],
   "source": [
    "regression_model.intercept_"
   ]
  },
  {
   "cell_type": "code",
   "execution_count": null,
   "metadata": {},
   "outputs": [],
   "source": [
    "numpy.mean()"
   ]
  },
  {
   "cell_type": "code",
   "execution_count": null,
   "metadata": {},
   "outputs": [],
   "source": []
  },
  {
   "cell_type": "markdown",
   "metadata": {},
   "source": [
    "#### Validation"
   ]
  },
  {
   "cell_type": "code",
   "execution_count": null,
   "metadata": {},
   "outputs": [],
   "source": [
    "scaled_data_2018_05_09_run1 = data_files_fromS3('.PATH/sHeader.csv', '.PATH/scaledData.csv', \"S3 BUCKET\")\n",
    "scaled_data_2018_05_09_run1 = scaled_data_2018_05_09_run1.resample('10T').mean()\n",
    "original_discharge_validation_input, original_discharge_validation_output, _ = datapreprocessing(scaled_data_2018_05_09_run1, False)"
   ]
  },
  {
   "cell_type": "code",
   "execution_count": null,
   "metadata": {},
   "outputs": [],
   "source": [
    "nonsmooth_load_validation = load"
   ]
  },
  {
   "cell_type": "code",
   "execution_count": null,
   "metadata": {},
   "outputs": [],
   "source": [
    "LReg_prediction_discharge_mode_nonsmooth = regression_model.predict(original_discharge_validation_input)\n",
    "mean_squared_error(original_discharge_validation_output, LReg_prediction_discharge_mode_nonsmooth, squared=False)"
   ]
  },
  {
   "cell_type": "code",
   "execution_count": null,
   "metadata": {},
   "outputs": [],
   "source": [
    "nonsmooth_residuals = np.sqrt((LReg_prediction_discharge_mode_nonsmooth-to_ts_meter)**2)"
   ]
  },
  {
   "cell_type": "code",
   "execution_count": null,
   "metadata": {},
   "outputs": [],
   "source": [
    "fig = plt.figure()\n",
    "ax = fig.add_subplot()\n",
    "fig.set_dpi(450)\n",
    "ax.scatter(original_discharge_validation_input[:,1], (LReg_prediction_discharge_mode_nonsmooth.flatten() - original_discharge_validation_input[:,0].flatten()), marker='.', s=10, label='Prediction', color='red')\n",
    "ax.scatter(original_discharge_validation_input[:,1], (original_discharge_validation_output.flatten() - original_discharge_validation_input[:,0].flatten()), marker='.', s=10, label='Actual')\n",
    "ax.set_title(\"Load vs Change in ice inventory\", fontdict={'fontsize': 10})\n",
    "ax.legend()\n",
    "ax.legend(loc=2, prop={'size': 6})\n",
    "ax.set_ylabel(\"Δ Inventory [%]\")\n",
    "ax.set_xlabel(\"Load [kWh]\")"
   ]
  },
  {
   "cell_type": "code",
   "execution_count": null,
   "metadata": {},
   "outputs": [],
   "source": []
  },
  {
   "cell_type": "code",
   "execution_count": null,
   "metadata": {},
   "outputs": [],
   "source": []
  },
  {
   "cell_type": "markdown",
   "metadata": {},
   "source": [
    "from mpl_toolkits import mplot3d\n",
    "%matplotlib widget\n",
    "import numpy as np\n",
    "import matplotlib.pyplot as plt\n",
    "from mpl_toolkits.mplot3d import Axes3D"
   ]
  },
  {
   "cell_type": "markdown",
   "metadata": {},
   "source": [
    "!pip install ipympl"
   ]
  },
  {
   "cell_type": "markdown",
   "metadata": {},
   "source": [
    "fig = plt.figure()\n",
    "ax = plt.axes(projection='3d')\n",
    "#ax = Axes3D(fig)\n",
    "fig.set_dpi(450)\n",
    "\n",
    "# Data for three-dimensional scattered points\n",
    "zdata = LReg_prediction_discharge_mode_nonsmooth\n",
    "xdata = from_ts_meter\n",
    "ydata = load\n",
    "ax.scatter3D(xdata, ydata, to_ts_meter, c=to_ts_meter, cmap='Greens');\n",
    "ax.scatter3D(xdata, ydata, zdata, c=ydata, cmap='Reds');\n",
    "plt.savefig('model.png', dpi=450)"
   ]
  },
  {
   "cell_type": "code",
   "execution_count": null,
   "metadata": {},
   "outputs": [],
   "source": [
    "regression_model.coef_"
   ]
  },
  {
   "cell_type": "code",
   "execution_count": null,
   "metadata": {},
   "outputs": [],
   "source": [
    "fig = plt.figure()\n",
    "ax = fig.add_subplot()\n",
    "fig.set_dpi(450)\n",
    "ax.scatter(to_ts_meter, LReg_prediction_discharge_mode, marker='.', s=10, label='Predicted', color='Red')\n",
    "ax.set_title(\"Actual vs Predicted Final Ice Inventory\", fontdict={'fontsize': 10})\n",
    "ax.plot(to_ts_meter, to_ts_meter, label='Perfect Fit')\n",
    "ax.legend()\n",
    "ax.legend(loc=2, prop={'size': 6})\n",
    "ax.set_xlabel(\"Actual [%]\")\n",
    "ax.set_ylabel(\"Prediction [%]\")"
   ]
  },
  {
   "cell_type": "code",
   "execution_count": null,
   "metadata": {},
   "outputs": [],
   "source": [
    "fig = plt.figure()\n",
    "ax = fig.add_subplot()\n",
    "fig.set_dpi(450)\n",
    "ax.scatter(load.flatten(), (from_ts_meter.flatten() - LReg_prediction_discharge_mode.flatten()), marker='.', s=10, label='Predicted', color='Red')\n",
    "ax.scatter(load.flatten(), (from_ts_meter.flatten() - to_ts_meter.flatten()), marker='.', s=10, label='Actual')\n",
    "ax.set_title(\"Load vs Change in ice inventory\", fontdict={'fontsize': 10})\n",
    "ax.legend()\n",
    "ax.legend(loc=2, prop={'size': 6})\n",
    "ax.set_xlabel(\"Δ Inventory [%]\")\n",
    "ax.set_ylabel(\"Load [kWh]\")"
   ]
  },
  {
   "cell_type": "code",
   "execution_count": null,
   "metadata": {},
   "outputs": [],
   "source": [
    "x5 = LReg_prediction_discharge_mode.flatten()\n",
    "predictions = np.vstack((x5, to_ts_meter.flatten()))\n",
    "sortedArr = predictions [ :, predictions[1].argsort()]\n"
   ]
  },
  {
   "cell_type": "code",
   "execution_count": null,
   "metadata": {},
   "outputs": [],
   "source": [
    "fig = plt.figure()\n",
    "ax = fig.add_subplot()\n",
    "fig.set_dpi(450)\n",
    "plt.scatter([x for x in range(0, sortedArr[0].shape[0])], sortedArr[0],  label='Linear Regression', marker='.')\n",
    "#plt.scatter([x for x in range(0, len(LReg_prediction_charge_mode))], LReg_prediction_charge_mode)\n",
    "#plt.plot([x for x in range(0, sortedArr[3].shape[0])], sortedArr[3], linewidth=0.5, label='Neural Net')\n",
    "plt.scatter([x for x in range(0, sortedArr[1].shape[0])], sortedArr[1],  label='Actual Data', marker='.')\n",
    "#plt.scatter([x for x in range(0, len(NeuralNet_prediction_charge_mode))], NeuralNet_prediction_charge_mode)\n",
    "#plt.set\n",
    "plt.legend()\n",
    "plt.show()"
   ]
  },
  {
   "cell_type": "markdown",
   "metadata": {},
   "source": [
    "#### Smooth discharge mode "
   ]
  },
  {
   "cell_type": "code",
   "execution_count": null,
   "metadata": {},
   "outputs": [],
   "source": [
    "scaled_data_2018_05_17_run2 = data_files_fromS3('.PATH/sHeader.csv', '.PATH/scaledData.csv', \"S3 BUCKET\")\n",
    "#Q_data = scaled_data_2018_05_09_run1['ts_meter']\n",
    "scaled_data_2018_05_17_run2 = scaled_data_2018_05_17_run2.resample('10T').mean()\n",
    "original_discharge_training_input_smooth, original_discharge_training_output, _ = datapreprocessing(scaled_data_2018_05_17_run2, True)"
   ]
  },
  {
   "cell_type": "code",
   "execution_count": null,
   "metadata": {},
   "outputs": [],
   "source": []
  },
  {
   "cell_type": "markdown",
   "metadata": {},
   "source": [
    "fig = plt.figure()\n",
    "ax = fig.add_subplot()\n",
    "fig.set_dpi(450)\n",
    "ax.scatter( [x for x in range(0, len(instantaneous_load_nonsmooth))],instantaneous_load_nonsmooth.flatten(), marker='o', s=10, label='Nonsmooth', color='red')\n",
    "ax.scatter( [x for x in range(0, len(instantaneous_load_smooth))], instantaneous_load_smooth.flatten(), marker='.', s=10, label='Smooth', color='blue')\n",
    "ax.legend()"
   ]
  },
  {
   "cell_type": "markdown",
   "metadata": {},
   "source": [
    "fig = plt.figure()\n",
    "ax = fig.add_subplot()\n",
    "fig.set_dpi(450)\n",
    "ax.scatter( [x for x in range(0, len(smooth_training_load))],smooth_training_load.flatten(), marker='o', s=10, label='Smooth', color='red')\n",
    "ax.scatter( [x for x in range(0, len(nonsmooth_training_load))], nonsmooth_training_load.flatten(), marker='.', s=10, label='Nonsmooth', color='blue')\n",
    "ax.legend()"
   ]
  },
  {
   "cell_type": "markdown",
   "metadata": {},
   "source": [
    "fig = plt.figure()\n",
    "ax = fig.add_subplot()\n",
    "fig.set_dpi(450)\n",
    "ax.scatter( [x for x in range(0, len(smooth_validation_load))],smooth_validation_load.flatten(), marker='o', s=10, label='Smooth', color='red')\n",
    "ax.scatter( [x for x in range(0, len(nonsmooth_load_validation))], nonsmooth_load_validation.flatten(), marker='.', s=10, label='Nonsmooth', color='blue')\n",
    "ax.legend()"
   ]
  },
  {
   "cell_type": "markdown",
   "metadata": {},
   "source": [
    "smooth_training_load\n",
    "smooth_validation_load\n",
    "nonsmooth_load_validation\n",
    "nonsmooth_training_load"
   ]
  },
  {
   "cell_type": "markdown",
   "metadata": {},
   "source": [
    "fig = plt.figure()\n",
    "ax = fig.add_subplot()\n",
    "fig.set_dpi(450)\n",
    "ax.scatter( [x for x in range(0, len(smooth_ts_f))],smooth_ts_f.flatten(), marker='o', s=10, label='Prediction', color='red')\n",
    "ax.scatter( [x for x in range(0, len(ts_f))], ts_f.flatten(), marker='.', s=10, label='Prediction', color='blue')"
   ]
  },
  {
   "cell_type": "code",
   "execution_count": null,
   "metadata": {},
   "outputs": [],
   "source": [
    "plt_mean_squared_error = []\n",
    "regression_model = LinearRegression()\n",
    "regression_model.fit(original_discharge_training_input_smooth, original_discharge_training_output)"
   ]
  },
  {
   "cell_type": "markdown",
   "metadata": {},
   "source": [
    "#### Validation"
   ]
  },
  {
   "cell_type": "code",
   "execution_count": null,
   "metadata": {},
   "outputs": [],
   "source": [
    "scaled_data_2018_05_09_run1 = data_files_fromS3('.PATH/sHeader.csv', '.PATH/scaledData.csv', \"S3 BUCKET\")\n",
    "scaled_data_2018_05_09_run1 = scaled_data_2018_05_09_run1.resample('10T').mean()\n",
    "original_discharge_validation_input_smooth, original_discharge_validation_output, _ = datapreprocessing(scaled_data_2018_05_09_run1, True)"
   ]
  },
  {
   "cell_type": "markdown",
   "metadata": {},
   "source": [
    "fig = plt.figure()\n",
    "ax = fig.add_subplot()\n",
    "fig.set_dpi(450)\n",
    "ax.scatter( [x for x in range(0, len(instantaneous_load_nonsmooth))],instantaneous_load_nonsmooth.flatten(), marker='o', s=10, label='Nonsmooth', color='red')\n",
    "ax.scatter( [x for x in range(0, len(instantaneous_load_smooth))], instantaneous_load_smooth.flatten(), marker='.', s=10, label='Smooth', color='blue')\n",
    "ax.legend()"
   ]
  },
  {
   "cell_type": "markdown",
   "metadata": {},
   "source": [
    "fig = plt.figure()\n",
    "ax = fig.add_subplot()\n",
    "fig.set_dpi(450)\n",
    "ax.scatter( [x for x in range(0, len(smooth_ts_f))],smooth_ts_f.flatten(), marker='o', s=10, label='Prediction', color='red')\n",
    "ax.scatter( [x for x in range(0, len(ts_f))], ts_f.flatten(), marker='.', s=10, label='Prediction', color='blue')"
   ]
  },
  {
   "cell_type": "code",
   "execution_count": null,
   "metadata": {},
   "outputs": [],
   "source": [
    "LReg_prediction_discharge_mode_smooth = regression_model.predict(original_discharge_validation_input_smooth)\n",
    "mean_squared_error(original_discharge_validation_output, LReg_prediction_discharge_mode_smooth, squared=False)"
   ]
  },
  {
   "cell_type": "code",
   "execution_count": null,
   "metadata": {},
   "outputs": [],
   "source": [
    "fig = plt.figure()\n",
    "ax = fig.add_subplot()\n",
    "fig.set_dpi(450)\n",
    "ax.scatter(original_discharge_validation_input_smooth[:,1], (LReg_prediction_discharge_mode_smooth.flatten() - original_discharge_validation_input_smooth[:,0].flatten()), marker='.', s=10, label='Prediction', color='red')\n",
    "ax.scatter(original_discharge_validation_input_smooth[:,1], (original_discharge_validation_output.flatten() - original_discharge_validation_input_smooth[:,0].flatten()), marker='.', s=10, label='Actual')\n",
    "ax.set_title(\"Load vs Change in ice inventory\", fontdict={'fontsize': 10})\n",
    "ax.legend()\n",
    "ax.legend(loc=2, prop={'size': 6})\n",
    "ax.set_ylabel(\"Δ Inventory [%]\")\n",
    "ax.set_xlabel(\"Load [kWh]\")"
   ]
  },
  {
   "cell_type": "code",
   "execution_count": null,
   "metadata": {},
   "outputs": [],
   "source": [
    "fig = plt.figure()\n",
    "ax = fig.add_subplot()\n",
    "fig.set_dpi(450)\n",
    "ax.scatter( [x for x in range(0, len(LReg_prediction_discharge_mode_smooth))],LReg_prediction_discharge_mode_smooth.flatten(), marker='o', s=2,  label='Smooth', color='red')\n",
    "ax.scatter( [x for x in range(0, len(LReg_prediction_discharge_mode_nonsmooth))], LReg_prediction_discharge_mode_nonsmooth.flatten(), marker='*', s=2, label='Nonsmooth', color='blue')\n",
    "ax.scatter( [x for x in range(0, len(to_ts_meter))], to_ts_meter.flatten(), marker='.', s=4, label='Actual Data', color='Green')\n",
    "ax.legend()"
   ]
  },
  {
   "cell_type": "code",
   "execution_count": null,
   "metadata": {},
   "outputs": [],
   "source": [
    "nonsmooth_residuals.shape"
   ]
  },
  {
   "cell_type": "code",
   "execution_count": null,
   "metadata": {},
   "outputs": [],
   "source": [
    "regression_model.coef_"
   ]
  },
  {
   "cell_type": "code",
   "execution_count": null,
   "metadata": {},
   "outputs": [],
   "source": []
  },
  {
   "cell_type": "code",
   "execution_count": null,
   "metadata": {},
   "outputs": [],
   "source": [
    "x1 = LReg_prediction_discharge_mode.flatten()"
   ]
  },
  {
   "cell_type": "code",
   "execution_count": null,
   "metadata": {},
   "outputs": [],
   "source": [
    "np.sqrt(np.mean((x1-to_ts_meter)**2))"
   ]
  },
  {
   "cell_type": "code",
   "execution_count": null,
   "metadata": {},
   "outputs": [],
   "source": [
    "to_ts_meter.shape"
   ]
  },
  {
   "cell_type": "code",
   "execution_count": null,
   "metadata": {},
   "outputs": [],
   "source": [
    "LReg_prediction_discharge_mode_nonsmooth\n",
    "LReg_prediction_discharge_mode_smooth"
   ]
  },
  {
   "cell_type": "code",
   "execution_count": null,
   "metadata": {},
   "outputs": [],
   "source": [
    "x5 = LReg_prediction_discharge_mode.flatten()\n",
    "predictions = np.vstack((LReg_prediction_discharge_mode_nonsmooth.flatten(), LReg_prediction_discharge_mode_smooth.flatten(), to_ts_meter.flatten()))\n",
    "sortedArr = predictions [ :, predictions[2].argsort()]"
   ]
  },
  {
   "cell_type": "code",
   "execution_count": null,
   "metadata": {},
   "outputs": [],
   "source": [
    "sortedArr"
   ]
  },
  {
   "cell_type": "code",
   "execution_count": null,
   "metadata": {},
   "outputs": [],
   "source": [
    "sortedArr"
   ]
  },
  {
   "cell_type": "code",
   "execution_count": null,
   "metadata": {},
   "outputs": [],
   "source": [
    "fig = plt.figure()\n",
    "ax = fig.add_subplot()\n",
    "fig.set_dpi(450)\n",
    "plt.scatter([x for x in range(0, sortedArr[0].shape[0])], sortedArr[0],  label='Linear Regression Nonsmooth', marker='.')\n",
    "plt.scatter([x for x in range(0, sortedArr[1].shape[0])], sortedArr[1],  label='Linear Regression Smooth', marker='.')\n",
    "#plt.scatter([x for x in range(0, len(LReg_prediction_charge_mode))], LReg_prediction_charge_mode)\n",
    "#plt.plot([x for x in range(0, sortedArr[3].shape[0])], sortedArr[3], linewidth=0.5, label='Neural Net')\n",
    "plt.scatter([x for x in range(0, sortedArr[2].shape[0])], sortedArr[2],  label='Actual Data', marker='.')\n",
    "#plt.scatter([x for x in range(0, len(NeuralNet_prediction_charge_mode))], NeuralNet_prediction_charge_mode)\n",
    "#plt.set\n",
    "plt.legend()\n",
    "plt.show()"
   ]
  },
  {
   "cell_type": "markdown",
   "metadata": {},
   "source": [
    "## Linear Regression - Charge Mode"
   ]
  },
  {
   "cell_type": "code",
   "execution_count": null,
   "metadata": {},
   "outputs": [],
   "source": [
    "scaled_data_2019_10_08_run1 = data_files_fromS3('.PATH/sHeader.csv', '.PATH/scaledData.csv', \"S3 BUCKET\")\n",
    "#Q_data = scaled_data_2018_05_09_run1['ts_meter']\n",
    "scaled_data_2019_10_08_run1 = scaled_data_2019_10_08_run1.resample('10T').mean()\n",
    "original_charge_training_input, original_charge_training_output, _ = datapreprocessing(scaled_data_2019_10_08_run1, False)"
   ]
  },
  {
   "cell_type": "code",
   "execution_count": null,
   "metadata": {},
   "outputs": [],
   "source": [
    "plt_mean_squared_error = []\n",
    "regression_model = LinearRegression()\n",
    "regression_model.fit(original_charge_training_input, original_charge_training_output)"
   ]
  },
  {
   "cell_type": "code",
   "execution_count": null,
   "metadata": {},
   "outputs": [],
   "source": [
    "regression_model.coef_"
   ]
  },
  {
   "cell_type": "code",
   "execution_count": null,
   "metadata": {},
   "outputs": [],
   "source": [
    "regression_model.intercept_"
   ]
  },
  {
   "cell_type": "code",
   "execution_count": null,
   "metadata": {},
   "outputs": [],
   "source": [
    "LReg_prediction_charge_mode = regression_model.predict(dataset_ts_meter)\n",
    "mean_squared_error(to_ts_meter, LReg_prediction_charge_mode, squared=False)"
   ]
  },
  {
   "cell_type": "code",
   "execution_count": null,
   "metadata": {},
   "outputs": [],
   "source": [
    "scaled_data_2019_10_22_run1 = data_files_fromS3('.PATH/sHeader.csv', '.PATH/scaledData.csv', \"S3 BUCKET\")\n",
    "scaled_data_2019_10_22_run1 = scaled_data_2019_10_22_run1.resample('10T').mean()\n",
    "original_charge_validation_input, original_charge_validation_output, _ = datapreprocessing(scaled_data_2019_10_22_run1, False)"
   ]
  },
  {
   "cell_type": "code",
   "execution_count": null,
   "metadata": {},
   "outputs": [],
   "source": [
    "LReg_prediction_charge_mode = regression_model.predict(original_charge_validation_input)\n",
    "mean_squared_error(original_charge_validation_output, LReg_prediction_charge_mode, squared=False)"
   ]
  },
  {
   "cell_type": "code",
   "execution_count": null,
   "metadata": {},
   "outputs": [],
   "source": [
    "regression_model.intercept_"
   ]
  },
  {
   "cell_type": "code",
   "execution_count": null,
   "metadata": {},
   "outputs": [],
   "source": [
    "fig = plt.figure()\n",
    "ax = fig.add_subplot()\n",
    "fig.set_dpi(450)\n",
    "ax.scatter(original_charge_validation_input[:,1], (LReg_prediction_charge_mode.flatten() - original_charge_validation_input[:,0].flatten()), marker='.', s=10, label='Prediction', color='red')\n",
    "ax.scatter(original_charge_validation_input[:,1], (original_charge_validation_output.flatten() - original_charge_validation_input[:,0].flatten()), marker='.', s=10, label='Actual')\n",
    "ax.set_title(\"Load vs Change in ice inventory\", fontdict={'fontsize': 10})\n",
    "ax.legend()\n",
    "ax.legend(loc=2, prop={'size': 6})\n",
    "ax.set_ylabel(\"Δ Inventory [%]\")\n",
    "ax.set_xlabel(\"Load [kWh]\")"
   ]
  },
  {
   "cell_type": "code",
   "execution_count": null,
   "metadata": {},
   "outputs": [],
   "source": [
    "fig = plt.figure()\n",
    "ax = fig.add_subplot()\n",
    "fig.set_dpi(450)\n",
    "ax.scatter(to_ts_meter.flatten(), LReg_prediction_charge_mode.flatten(), marker='.', s=10, label='Prediction', color='Red')\n",
    "ax.plot(to_ts_meter.flatten(), to_ts_meter.flatten(), label='Perfect')\n",
    "ax.set_title(\"Actual vs Prediction of Final Ice Inventory\", fontdict={'fontsize': 10})\n",
    "ax.legend()\n",
    "ax.legend(loc=2, prop={'size': 6})\n",
    "ax.set_xlabel(\"Actual [%]\")\n",
    "ax.set_ylabel(\"Prediction [%]\")"
   ]
  },
  {
   "cell_type": "markdown",
   "metadata": {},
   "source": [
    "\"\"\"X = np.linspace(min(from_ts_meter), max(from_ts_meter))\n",
    "Y = np.linspace(min(load), max(load))\n",
    "X, Y = np.meshgrid(X, Y)\n",
    "plt.pcolormesh(X, Y, Z, shading='auto')\"\"\"\n",
    "plt.plot(x, y, \"ok\", label=\"input point\")\n",
    "plt.plot(x, z, \"ok\", label=\"input point\")\n",
    "plt.legend()\n",
    "plt.colorbar()\n",
    "plt.axis(\"equal\")\n",
    "plt.show()"
   ]
  },
  {
   "cell_type": "code",
   "execution_count": null,
   "metadata": {},
   "outputs": [],
   "source": [
    "interp"
   ]
  },
  {
   "cell_type": "code",
   "execution_count": null,
   "metadata": {},
   "outputs": [],
   "source": []
  },
  {
   "cell_type": "markdown",
   "metadata": {},
   "source": [
    "## Neural Network - Discharge Mode"
   ]
  },
  {
   "cell_type": "code",
   "execution_count": null,
   "metadata": {},
   "outputs": [],
   "source": [
    "scaled_data_2018_05_17_run2 = data_files_fromS3('.PATH/sHeader.csv', '.PATH/scaledData.csv', \"S3 BUCKET\")\n",
    "#Q_data = scaled_data_2018_05_09_run1['ts_meter']\n",
    "scaled_data_2018_05_17_run2 = scaled_data_2018_05_17_run2.resample('10T').mean()\n",
    "original_discharge_training_input, original_discharge_training_output, _ = datapreprocessing(scaled_data_2018_05_17_run2, False)"
   ]
  },
  {
   "cell_type": "code",
   "execution_count": null,
   "metadata": {},
   "outputs": [],
   "source": [
    "model = Sequential()\n",
    "model.add(Dense(15, activation = 'relu', input_shape = (2,), kernel_initializer='glorot_uniform'))\n",
    "model.add(Dense(15, activation = 'relu'))\n",
    "model.add(Dense(1, activation = 'relu'))\n",
    "model.compile(optimizer='adam', loss='mse')\n"
   ]
  },
  {
   "cell_type": "code",
   "execution_count": null,
   "metadata": {},
   "outputs": [],
   "source": [
    "model.fit(original_discharge_training_input, original_discharge_training_output, epochs=300)"
   ]
  },
  {
   "cell_type": "code",
   "execution_count": null,
   "metadata": {},
   "outputs": [],
   "source": [
    "NeuralNet_prediction_discharge_mode = model.predict(original_discharge_training_input)\n",
    "mean_squared_error(original_discharge_training_output, NeuralNet_prediction_discharge_mode, squared=False)"
   ]
  },
  {
   "cell_type": "markdown",
   "metadata": {},
   "source": [
    "### Validation"
   ]
  },
  {
   "cell_type": "code",
   "execution_count": null,
   "metadata": {},
   "outputs": [],
   "source": [
    "scaled_data_2018_05_09_run1 = data_files_fromS3('.PATH/sHeader.csv', '.PATH/scaledData.csv', \"S3 BUCKET\")\n",
    "scaled_data_2018_05_09_run1 = scaled_data_2018_05_09_run1.resample('10T').mean()\n",
    "original_discharge_validation_input, original_discharge_validation_output, _ = datapreprocessing(scaled_data_2018_05_09_run1, False)"
   ]
  },
  {
   "cell_type": "code",
   "execution_count": null,
   "metadata": {},
   "outputs": [],
   "source": [
    "model.evaluate(original_discharge_validation_input, original_discharge_validation_output)\n",
    "NeuralNet_prediction_discharge_mode = model.predict(original_discharge_validation_input)\n",
    "mean_squared_error(original_discharge_validation_output, NeuralNet_prediction_discharge_mode, squared=False)"
   ]
  },
  {
   "cell_type": "code",
   "execution_count": null,
   "metadata": {},
   "outputs": [],
   "source": [
    "fig = plt.figure()\n",
    "ax = fig.add_subplot()\n",
    "fig.set_dpi(450)\n",
    "ax.scatter(to_ts_meter.flatten(), NeuralNet_prediction_discharge_mode.flatten(), marker='.', s=10, label='Prediction', color='red')\n",
    "ax.plot(to_ts_meter.flatten(), to_ts_meter.flatten(), label='Perfect')\n",
    "ax.set_title(\"Actual vs Prediction of Final Ice Inventory\", fontdict={'fontsize': 10})\n",
    "ax.legend()\n",
    "ax.legend(loc=2, prop={'size': 6})\n",
    "ax.set_xlabel(\"Actual [%]\")\n",
    "ax.set_ylabel(\"Prediction [%]\")"
   ]
  },
  {
   "cell_type": "code",
   "execution_count": null,
   "metadata": {},
   "outputs": [],
   "source": [
    "fig = plt.figure()\n",
    "ax = fig.add_subplot()\n",
    "fig.set_dpi(450)\n",
    "ax.scatter(original_discharge_validation_input[:,1], (NeuralNet_prediction_discharge_mode.flatten() - original_discharge_validation_input[:,0].flatten()), marker='.', s=10, label='Prediction', color='red')\n",
    "ax.scatter(original_discharge_validation_input[:,1], (original_discharge_validation_output.flatten() - original_discharge_validation_input[:,0].flatten()), marker='.', s=10, label='Actual')\n",
    "ax.set_title(\"Load vs Change in ice inventory\", fontdict={'fontsize': 10})\n",
    "ax.legend()\n",
    "ax.legend(loc=2, prop={'size': 6})\n",
    "ax.set_ylabel(\"Δ Inventory [%]\")\n",
    "ax.set_xlabel(\"Load [kWh]\")"
   ]
  },
  {
   "cell_type": "code",
   "execution_count": null,
   "metadata": {},
   "outputs": [],
   "source": []
  },
  {
   "cell_type": "markdown",
   "metadata": {},
   "source": [
    "#### Smooth discharge mode "
   ]
  },
  {
   "cell_type": "code",
   "execution_count": null,
   "metadata": {},
   "outputs": [],
   "source": [
    "scaled_data_2018_05_17_run2 = data_files_fromS3('.PATH/sHeader.csv', '.PATH/scaledData.csv', \"S3 BUCKET\")\n",
    "#Q_data = scaled_data_2018_05_09_run1['ts_meter']\n",
    "scaled_data_2018_05_17_run2 = scaled_data_2018_05_17_run2.resample('10T').mean()\n",
    "original_discharge_training_input_smooth, original_discharge_training_output, _ = datapreprocessing(scaled_data_2018_05_17_run2, True)"
   ]
  },
  {
   "cell_type": "code",
   "execution_count": null,
   "metadata": {},
   "outputs": [],
   "source": [
    "model = Sequential()\n",
    "model.add(Dense(15, activation = 'relu', input_shape = (2,), kernel_initializer='glorot_uniform'))\n",
    "model.add(Dense(15, activation = 'relu'))\n",
    "model.add(Dense(1, activation = 'relu'))\n",
    "model.compile(optimizer='adam', loss='mse')\n",
    "model.fit(original_discharge_training_input_smooth, original_discharge_training_output, epochs=300, verbose=0)"
   ]
  },
  {
   "cell_type": "markdown",
   "metadata": {},
   "source": [
    "NeuralNet_prediction_discharge_mode = model.predict(dataset_ts_meter)\n",
    "mean_squared_error(to_ts_meter, NeuralNet_prediction_discharge_mode, squared=False)"
   ]
  },
  {
   "cell_type": "markdown",
   "metadata": {},
   "source": [
    "#### Validation"
   ]
  },
  {
   "cell_type": "code",
   "execution_count": null,
   "metadata": {},
   "outputs": [],
   "source": [
    "scaled_data_2018_05_09_run1 = data_files_fromS3('.PATH/sHeader.csv', '.PATH/scaledData.csv', \"S3 BUCKET\")\n",
    "scaled_data_2018_05_09_run1 = scaled_data_2018_05_09_run1.resample('10T').mean()\n",
    "original_discharge_validation_input_smooth, original_discharge_validation_output, _ = datapreprocessing(scaled_data_2018_05_09_run1, True)"
   ]
  },
  {
   "cell_type": "code",
   "execution_count": null,
   "metadata": {},
   "outputs": [],
   "source": [
    "model.evaluate(original_discharge_validation_input_smooth, original_discharge_validation_output)\n",
    "NeuralNet_prediction_discharge_mode = model.predict(original_discharge_validation_input_smooth)\n",
    "mean_squared_error(original_discharge_validation_output, NeuralNet_prediction_discharge_mode, squared=False)"
   ]
  },
  {
   "cell_type": "code",
   "execution_count": null,
   "metadata": {},
   "outputs": [],
   "source": [
    "fig = plt.figure()\n",
    "ax = fig.add_subplot()\n",
    "fig.set_dpi(450)\n",
    "ax.scatter(to_ts_meter.flatten(), NeuralNet_prediction_discharge_mode.flatten(), marker='.', s=10, label='Prediction', color='red')\n",
    "ax.plot(to_ts_meter.flatten(), to_ts_meter.flatten(), label='Perfect')\n",
    "ax.set_title(\"Actual vs Prediction of Final Ice Inventory\", fontdict={'fontsize': 10})\n",
    "ax.legend()\n",
    "ax.legend(loc=2, prop={'size': 6})\n",
    "ax.set_xlabel(\"Actual [%]\")\n",
    "ax.set_ylabel(\"Prediction [%]\")"
   ]
  },
  {
   "cell_type": "code",
   "execution_count": null,
   "metadata": {},
   "outputs": [],
   "source": [
    "fig = plt.figure()\n",
    "ax = fig.add_subplot()\n",
    "fig.set_dpi(450)\n",
    "ax.scatter(original_discharge_validation_input_smooth[:,1], (NeuralNet_prediction_discharge_mode.flatten() - original_discharge_validation_input_smooth[:,0].flatten()), marker='.', s=10, label='Prediction', color='red')\n",
    "ax.scatter(original_discharge_validation_input_smooth[:,1], (original_discharge_validation_output.flatten() - original_discharge_validation_input_smooth[:,0].flatten()), marker='.', s=10, label='Actual')\n",
    "ax.set_title(\"Load vs Change in ice inventory\", fontdict={'fontsize': 10})\n",
    "ax.legend()\n",
    "ax.legend(loc=2, prop={'size': 6})\n",
    "ax.set_ylabel(\"Δ Inventory [%]\")\n",
    "ax.set_xlabel(\"Load [kWh]\")"
   ]
  },
  {
   "cell_type": "code",
   "execution_count": null,
   "metadata": {},
   "outputs": [],
   "source": []
  },
  {
   "cell_type": "code",
   "execution_count": null,
   "metadata": {},
   "outputs": [],
   "source": []
  },
  {
   "cell_type": "code",
   "execution_count": null,
   "metadata": {},
   "outputs": [],
   "source": []
  },
  {
   "cell_type": "markdown",
   "metadata": {},
   "source": [
    "## Neural Network - Charge Mode"
   ]
  },
  {
   "cell_type": "code",
   "execution_count": null,
   "metadata": {},
   "outputs": [],
   "source": [
    "scaled_data_2019_10_08_run1 = data_files_fromS3('.PATH/sHeader.csv', '.PATH/scaledData.csv', \"S3 BUCKET\")\n",
    "#Q_data = scaled_data_2018_05_09_run1['ts_meter']\n",
    "scaled_data_2019_10_08_run1 = scaled_data_2019_10_08_run1.resample('10T').mean()\n",
    "original_charge_training_input, original_charge_training_output, _ = datapreprocessing(scaled_data_2019_10_08_run1, False)"
   ]
  },
  {
   "cell_type": "code",
   "execution_count": null,
   "metadata": {},
   "outputs": [],
   "source": [
    "model = Sequential()\n",
    "model.add(Dense(15, activation = 'relu', input_shape = (2,), kernel_initializer='glorot_uniform'))\n",
    "model.add(Dense(15, activation = 'relu'))\n",
    "model.add(Dense(1, activation = 'relu'))\n",
    "model.compile(optimizer='adam', loss='mse')\n",
    "model.fit(original_charge_training_input, original_charge_training_output, epochs=300, verbose=0)"
   ]
  },
  {
   "cell_type": "markdown",
   "metadata": {},
   "source": [
    "### Validation"
   ]
  },
  {
   "cell_type": "code",
   "execution_count": null,
   "metadata": {},
   "outputs": [],
   "source": [
    "scaled_data_2019_10_22_run1 = data_files_fromS3('.PATH/sHeader.csv', '.PATH/scaledData.csv', \"S3 BUCKET\")\n",
    "scaled_data_2019_10_22_run1 = scaled_data_2019_10_22_run1.resample('10T').mean()\n",
    "original_charge_validation_input, original_charge_validation_output, _ = datapreprocessing(scaled_data_2019_10_22_run1, False)"
   ]
  },
  {
   "cell_type": "code",
   "execution_count": null,
   "metadata": {},
   "outputs": [],
   "source": [
    "model.evaluate(original_charge_validation_input, original_charge_validation_output)\n",
    "NeuralNet_prediction_charge_mode = model.predict(original_charge_validation_input)\n",
    "mean_squared_error(original_charge_validation_output, NeuralNet_prediction_charge_mode, squared=False)"
   ]
  },
  {
   "cell_type": "code",
   "execution_count": null,
   "metadata": {},
   "outputs": [],
   "source": [
    "fig = plt.figure()\n",
    "ax = fig.add_subplot()\n",
    "fig.set_dpi(450)\n",
    "ax.scatter(to_ts_meter.flatten(), NeuralNet_prediction_charge_mode.flatten(), marker='.', s=10, label='Prediction', color='Red')\n",
    "ax.plot(to_ts_meter.flatten(), to_ts_meter.flatten(), label='Perfect')\n",
    "ax.set_title(\"Actual vs Prediction of Final Ice Inventory\", fontdict={'fontsize': 10})\n",
    "ax.legend()\n",
    "ax.legend(loc=2, prop={'size': 6})\n",
    "ax.set_xlabel(\"Actual [%]\")\n",
    "ax.set_ylabel(\"Prediction [%]\")"
   ]
  },
  {
   "cell_type": "code",
   "execution_count": null,
   "metadata": {},
   "outputs": [],
   "source": [
    "fig = plt.figure()\n",
    "ax = fig.add_subplot()\n",
    "fig.set_dpi(450)\n",
    "ax.scatter(original_charge_validation_input[:,1], (NeuralNet_prediction_charge_mode.flatten() - original_charge_validation_input[:,0].flatten()), marker='.', s=10, label='Prediction', color='red')\n",
    "ax.scatter(original_charge_validation_input[:,1], (original_charge_validation_output.flatten() - original_charge_validation_input[:,0].flatten()), marker='.', s=10, label='Actual')\n",
    "ax.set_title(\"Load vs Change in ice inventory\", fontdict={'fontsize': 10})\n",
    "ax.legend()\n",
    "ax.legend(loc=2, prop={'size': 6})\n",
    "ax.set_ylabel(\"Δ Inventory [%]\")\n",
    "ax.set_xlabel(\"Load [kWh]\")"
   ]
  },
  {
   "cell_type": "markdown",
   "metadata": {},
   "source": [
    "### Discharge Mode All models combined plot"
   ]
  },
  {
   "cell_type": "code",
   "execution_count": null,
   "metadata": {},
   "outputs": [],
   "source": [
    "GP_prediction_mean_discharge_mode, GP_prediction_mean_charge_mode, GP_prediction_variance_discharge_mode, GP_prediction_variance_charge_mode\n",
    "Interp__prediction_to_ts_meter_discharge_mode, Interp__prediction_to_ts_meter_charge_mode\n",
    "LReg_prediction_discharge_mode, LReg_prediction_charge_mode\n",
    "NeuralNet_prediction_discharge_mode, NeuralNet_prediction_charge_mode"
   ]
  },
  {
   "cell_type": "code",
   "execution_count": null,
   "metadata": {},
   "outputs": [],
   "source": [
    "GP_prediction_mean_discharge_mode - LReg_prediction_discharge_mode"
   ]
  },
  {
   "cell_type": "code",
   "execution_count": null,
   "metadata": {},
   "outputs": [],
   "source": [
    "plt.plot([x for x in range(0, len(GP_prediction_mean_discharge_mode))], GP_prediction_mean_discharge_mode, linewidth=3)\n",
    "#plt.scatter([x for x in range(0, len(GP_prediction_mean_charge_mode))], GP_prediction_mean_charge_mode)\n",
    "plt.plot([x for x in range(0, len(Interp__prediction_to_ts_meter_discharge_mode))], Interp__prediction_to_ts_meter_discharge_mode, linewidth=2)\n",
    "#plt.scatter([x for x in range(0, len(Interp__prediction_to_ts_meter_charge_mode))], Interp__prediction_to_ts_meter_charge_mode)\n",
    "plt.plot([x for x in range(0, len(LReg_prediction_discharge_mode))], LReg_prediction_discharge_mode, linewidth=1)\n",
    "#plt.scatter([x for x in range(0, len(LReg_prediction_charge_mode))], LReg_prediction_charge_mode)\n",
    "plt.plot([x for x in range(0, len(NeuralNet_prediction_discharge_mode))], NeuralNet_prediction_discharge_mode, linewidth=0.5)\n",
    "#plt.scatter([x for x in range(0, len(NeuralNet_prediction_charge_mode))], NeuralNet_prediction_charge_mode)\n",
    "plt.rcParams['figure.dpi'] = 3000\n",
    "plt.show()"
   ]
  },
  {
   "cell_type": "code",
   "execution_count": null,
   "metadata": {},
   "outputs": [],
   "source": [
    "GP_prediction_mean_discharge_mode"
   ]
  },
  {
   "cell_type": "code",
   "execution_count": null,
   "metadata": {},
   "outputs": [],
   "source": [
    "plt.rcParams['figure.dpi'] = 600"
   ]
  },
  {
   "cell_type": "code",
   "execution_count": null,
   "metadata": {},
   "outputs": [],
   "source": [
    "to_ts_sorted = to_ts_meter.flatten()\n",
    "to_ts_sorted.sort()"
   ]
  },
  {
   "cell_type": "code",
   "execution_count": null,
   "metadata": {},
   "outputs": [],
   "source": [
    "x1 = GP_prediction_mean_discharge_mode.numpy().flatten()\n",
    "x2 = GP_prediction_mean_charge_mode.numpy().flatten()\n",
    "x3 = Interp__prediction_to_ts_meter_discharge_mode.flatten()\n",
    "x4 = Interp__prediction_to_ts_meter_charge_mode.flatten()\n",
    "x5 = LReg_prediction_discharge_mode.flatten()\n",
    "x6 = LReg_prediction_charge_mode.flatten()\n",
    "x7 = NeuralNet_prediction_discharge_mode.flatten()\n",
    "x8 = NeuralNet_prediction_charge_mode.flatten()\n",
    "predictions = np.vstack((x1, x3, x5, x7, to_ts_meter.flatten()))\n",
    "sortedArr = predictions [ :, predictions[4].argsort()]\n",
    "\n",
    "plt.plot([x for x in range(0, sortedArr[0].shape[0])], sortedArr[0], linewidth=0.5, label='GP Prediction')\n",
    "#plt.plot([x for x in range(0, len(to_ts_sorted))], to_ts_sorted, linewidth=1, label='Actual Data')\n",
    "#plt.scatter([x for x in range(0, len(GP_prediction_mean_charge_mode))], GP_prediction_mean_charge_mode)\n",
    "#plt.plot([x for x in range(0, sortedArr[1].shape[0])], sortedArr[1], linewidth=0.5, label='Interpolation')\n",
    "#plt.scatter([x for x in range(0, len(Interp__prediction_to_ts_meter_charge_mode))], Interp__prediction_to_ts_meter_charge_mode)\n",
    "#plt.plot([x for x in range(0, sortedArr[2].shape[0])], sortedArr[2], linewidth=0.5, label='Linear Regression')\n",
    "#plt.scatter([x for x in range(0, len(LReg_prediction_charge_mode))], LReg_prediction_charge_mode)\n",
    "#plt.plot([x for x in range(0, sortedArr[3].shape[0])], sortedArr[3], linewidth=0.5, label='Neural Net')\n",
    "plt.plot([x for x in range(0, sortedArr[4].shape[0])], sortedArr[4], linewidth=1, label='Actual Data')\n",
    "#plt.scatter([x for x in range(0, len(NeuralNet_prediction_charge_mode))], NeuralNet_prediction_charge_mode)\n",
    "#plt.set\n",
    "plt.legend()\n",
    "plt.show()"
   ]
  },
  {
   "cell_type": "code",
   "execution_count": null,
   "metadata": {},
   "outputs": [],
   "source": [
    "#plt.plot([x for x in range(0, sortedArr[0].shape[0])], sortedArr[0], linewidth=0.5, label='GP Prediction')\n",
    "#plt.plot([x for x in range(0, len(to_ts_sorted))], to_ts_sorted, linewidth=1, label='Actual Data')\n",
    "#plt.scatter([x for x in range(0, len(GP_prediction_mean_charge_mode))], GP_prediction_mean_charge_mode)\n",
    "plt.plot([x for x in range(0, sortedArr[1].shape[0])], sortedArr[1], linewidth=0.5, label='Interpolation')\n",
    "#plt.scatter([x for x in range(0, len(Interp__prediction_to_ts_meter_charge_mode))], Interp__prediction_to_ts_meter_charge_mode)\n",
    "#plt.plot([x for x in range(0, sortedArr[2].shape[0])], sortedArr[2], linewidth=0.5, label='Linear Regression')\n",
    "#plt.scatter([x for x in range(0, len(LReg_prediction_charge_mode))], LReg_prediction_charge_mode)\n",
    "#plt.plot([x for x in range(0, sortedArr[3].shape[0])], sortedArr[3], linewidth=0.5, label='Neural Net')\n",
    "plt.plot([x for x in range(0, sortedArr[4].shape[0])], sortedArr[4], linewidth=1, label='Actual Data')\n",
    "#plt.scatter([x for x in range(0, len(NeuralNet_prediction_charge_mode))], NeuralNet_prediction_charge_mode)\n",
    "#plt.set\n",
    "plt.legend()\n",
    "plt.show()"
   ]
  },
  {
   "cell_type": "code",
   "execution_count": null,
   "metadata": {},
   "outputs": [],
   "source": [
    "#plt.plot([x for x in range(0, sortedArr[0].shape[0])], sortedArr[0], linewidth=0.5, label='GP Prediction')\n",
    "#plt.plot([x for x in range(0, len(to_ts_sorted))], to_ts_sorted, linewidth=1, label='Actual Data')\n",
    "#plt.scatter([x for x in range(0, len(GP_prediction_mean_charge_mode))], GP_prediction_mean_charge_mode)\n",
    "#plt.plot([x for x in range(0, sortedArr[1].shape[0])], sortedArr[1], linewidth=0.5, label='Interpolation')\n",
    "#plt.scatter([x for x in range(0, len(Interp__prediction_to_ts_meter_charge_mode))], Interp__prediction_to_ts_meter_charge_mode)\n",
    "plt.plot([x for x in range(0, sortedArr[2].shape[0])], sortedArr[2], linewidth=0.5, label='Linear Regression')\n",
    "#plt.scatter([x for x in range(0, len(LReg_prediction_charge_mode))], LReg_prediction_charge_mode)\n",
    "#plt.plot([x for x in range(0, sortedArr[3].shape[0])], sortedArr[3], linewidth=0.5, label='Neural Net')\n",
    "plt.plot([x for x in range(0, sortedArr[4].shape[0])], sortedArr[4], linewidth=1, label='Actual Data')\n",
    "#plt.scatter([x for x in range(0, len(NeuralNet_prediction_charge_mode))], NeuralNet_prediction_charge_mode)\n",
    "#plt.set\n",
    "plt.legend()\n",
    "plt.show()"
   ]
  },
  {
   "cell_type": "code",
   "execution_count": null,
   "metadata": {},
   "outputs": [],
   "source": [
    "#plt.plot([x for x in range(0, sortedArr[0].shape[0])], sortedArr[0], linewidth=0.5, label='GP Prediction')\n",
    "#plt.plot([x for x in range(0, len(to_ts_sorted))], to_ts_sorted, linewidth=1, label='Actual Data')\n",
    "#plt.scatter([x for x in range(0, len(GP_prediction_mean_charge_mode))], GP_prediction_mean_charge_mode)\n",
    "#plt.plot([x for x in range(0, sortedArr[1].shape[0])], sortedArr[1], linewidth=0.5, label='Interpolation')\n",
    "#plt.scatter([x for x in range(0, len(Interp__prediction_to_ts_meter_charge_mode))], Interp__prediction_to_ts_meter_charge_mode)\n",
    "#plt.plot([x for x in range(0, sortedArr[2].shape[0])], sortedArr[2], linewidth=0.5, label='Linear Regression')\n",
    "#plt.scatter([x for x in range(0, len(LReg_prediction_charge_mode))], LReg_prediction_charge_mode)\n",
    "plt.plot([x for x in range(0, sortedArr[3].shape[0])], sortedArr[3], linewidth=0.5, label='Neural Net')\n",
    "plt.plot([x for x in range(0, sortedArr[4].shape[0])], sortedArr[4], linewidth=0.5, label='Actual Data')\n",
    "#plt.scatter([x for x in range(0, len(NeuralNet_prediction_charge_mode))], NeuralNet_prediction_charge_mode)\n",
    "#plt.set\n",
    "plt.legend()\n",
    "plt.show()"
   ]
  },
  {
   "cell_type": "code",
   "execution_count": null,
   "metadata": {},
   "outputs": [],
   "source": [
    "plt.plot([x for x in range(0, sortedArr[0].shape[0])], sortedArr[0], linewidth=0.5, label='GP Prediction')\n",
    "#plt.plot([x for x in range(0, len(to_ts_sorted))], to_ts_sorted, linewidth=1, label='Actual Data')\n",
    "#plt.scatter([x for x in range(0, len(GP_prediction_mean_charge_mode))], GP_prediction_mean_charge_mode)\n",
    "plt.plot([x for x in range(0, sortedArr[1].shape[0])], sortedArr[1], linewidth=0.5, label='Interpolation')\n",
    "#plt.scatter([x for x in range(0, len(Interp__prediction_to_ts_meter_charge_mode))], Interp__prediction_to_ts_meter_charge_mode)\n",
    "plt.plot([x for x in range(0, sortedArr[2].shape[0])], sortedArr[2], linewidth=0.5, label='Linear Regression')\n",
    "#plt.scatter([x for x in range(0, len(LReg_prediction_charge_mode))], LReg_prediction_charge_mode)\n",
    "plt.plot([x for x in range(0, sortedArr[3].shape[0])], sortedArr[3], linewidth=0.5, label='Neural Net')\n",
    "plt.plot([x for x in range(0, sortedArr[4].shape[0])], sortedArr[4], linewidth=0.5, label='Actual Data')\n",
    "#plt.scatter([x for x in range(0, len(NeuralNet_prediction_charge_mode))], NeuralNet_prediction_charge_mode)\n",
    "#plt.set\n",
    "plt.legend()\n",
    "plt.show()"
   ]
  }
 ],
 "metadata": {
  "availableInstances": [
   {
    "_defaultOrder": 0,
    "_isFastLaunch": true,
    "category": "General purpose",
    "gpuNum": 0,
    "hideHardwareSpecs": false,
    "memoryGiB": 4,
    "name": "ml.t3.medium",
    "vcpuNum": 2
   },
   {
    "_defaultOrder": 1,
    "_isFastLaunch": false,
    "category": "General purpose",
    "gpuNum": 0,
    "hideHardwareSpecs": false,
    "memoryGiB": 8,
    "name": "ml.t3.large",
    "vcpuNum": 2
   },
   {
    "_defaultOrder": 2,
    "_isFastLaunch": false,
    "category": "General purpose",
    "gpuNum": 0,
    "hideHardwareSpecs": false,
    "memoryGiB": 16,
    "name": "ml.t3.xlarge",
    "vcpuNum": 4
   },
   {
    "_defaultOrder": 3,
    "_isFastLaunch": false,
    "category": "General purpose",
    "gpuNum": 0,
    "hideHardwareSpecs": false,
    "memoryGiB": 32,
    "name": "ml.t3.2xlarge",
    "vcpuNum": 8
   },
   {
    "_defaultOrder": 4,
    "_isFastLaunch": true,
    "category": "General purpose",
    "gpuNum": 0,
    "hideHardwareSpecs": false,
    "memoryGiB": 8,
    "name": "ml.m5.large",
    "vcpuNum": 2
   },
   {
    "_defaultOrder": 5,
    "_isFastLaunch": false,
    "category": "General purpose",
    "gpuNum": 0,
    "hideHardwareSpecs": false,
    "memoryGiB": 16,
    "name": "ml.m5.xlarge",
    "vcpuNum": 4
   },
   {
    "_defaultOrder": 6,
    "_isFastLaunch": false,
    "category": "General purpose",
    "gpuNum": 0,
    "hideHardwareSpecs": false,
    "memoryGiB": 32,
    "name": "ml.m5.2xlarge",
    "vcpuNum": 8
   },
   {
    "_defaultOrder": 7,
    "_isFastLaunch": false,
    "category": "General purpose",
    "gpuNum": 0,
    "hideHardwareSpecs": false,
    "memoryGiB": 64,
    "name": "ml.m5.4xlarge",
    "vcpuNum": 16
   },
   {
    "_defaultOrder": 8,
    "_isFastLaunch": false,
    "category": "General purpose",
    "gpuNum": 0,
    "hideHardwareSpecs": false,
    "memoryGiB": 128,
    "name": "ml.m5.8xlarge",
    "vcpuNum": 32
   },
   {
    "_defaultOrder": 9,
    "_isFastLaunch": false,
    "category": "General purpose",
    "gpuNum": 0,
    "hideHardwareSpecs": false,
    "memoryGiB": 192,
    "name": "ml.m5.12xlarge",
    "vcpuNum": 48
   },
   {
    "_defaultOrder": 10,
    "_isFastLaunch": false,
    "category": "General purpose",
    "gpuNum": 0,
    "hideHardwareSpecs": false,
    "memoryGiB": 256,
    "name": "ml.m5.16xlarge",
    "vcpuNum": 64
   },
   {
    "_defaultOrder": 11,
    "_isFastLaunch": false,
    "category": "General purpose",
    "gpuNum": 0,
    "hideHardwareSpecs": false,
    "memoryGiB": 384,
    "name": "ml.m5.24xlarge",
    "vcpuNum": 96
   },
   {
    "_defaultOrder": 12,
    "_isFastLaunch": false,
    "category": "General purpose",
    "gpuNum": 0,
    "hideHardwareSpecs": false,
    "memoryGiB": 8,
    "name": "ml.m5d.large",
    "vcpuNum": 2
   },
   {
    "_defaultOrder": 13,
    "_isFastLaunch": false,
    "category": "General purpose",
    "gpuNum": 0,
    "hideHardwareSpecs": false,
    "memoryGiB": 16,
    "name": "ml.m5d.xlarge",
    "vcpuNum": 4
   },
   {
    "_defaultOrder": 14,
    "_isFastLaunch": false,
    "category": "General purpose",
    "gpuNum": 0,
    "hideHardwareSpecs": false,
    "memoryGiB": 32,
    "name": "ml.m5d.2xlarge",
    "vcpuNum": 8
   },
   {
    "_defaultOrder": 15,
    "_isFastLaunch": false,
    "category": "General purpose",
    "gpuNum": 0,
    "hideHardwareSpecs": false,
    "memoryGiB": 64,
    "name": "ml.m5d.4xlarge",
    "vcpuNum": 16
   },
   {
    "_defaultOrder": 16,
    "_isFastLaunch": false,
    "category": "General purpose",
    "gpuNum": 0,
    "hideHardwareSpecs": false,
    "memoryGiB": 128,
    "name": "ml.m5d.8xlarge",
    "vcpuNum": 32
   },
   {
    "_defaultOrder": 17,
    "_isFastLaunch": false,
    "category": "General purpose",
    "gpuNum": 0,
    "hideHardwareSpecs": false,
    "memoryGiB": 192,
    "name": "ml.m5d.12xlarge",
    "vcpuNum": 48
   },
   {
    "_defaultOrder": 18,
    "_isFastLaunch": false,
    "category": "General purpose",
    "gpuNum": 0,
    "hideHardwareSpecs": false,
    "memoryGiB": 256,
    "name": "ml.m5d.16xlarge",
    "vcpuNum": 64
   },
   {
    "_defaultOrder": 19,
    "_isFastLaunch": false,
    "category": "General purpose",
    "gpuNum": 0,
    "hideHardwareSpecs": false,
    "memoryGiB": 384,
    "name": "ml.m5d.24xlarge",
    "vcpuNum": 96
   },
   {
    "_defaultOrder": 20,
    "_isFastLaunch": false,
    "category": "General purpose",
    "gpuNum": 0,
    "hideHardwareSpecs": true,
    "memoryGiB": 0,
    "name": "ml.geospatial.interactive",
    "supportedImageNames": [
     "sagemaker-geospatial-v1-0"
    ],
    "vcpuNum": 0
   },
   {
    "_defaultOrder": 21,
    "_isFastLaunch": true,
    "category": "Compute optimized",
    "gpuNum": 0,
    "hideHardwareSpecs": false,
    "memoryGiB": 4,
    "name": "ml.c5.large",
    "vcpuNum": 2
   },
   {
    "_defaultOrder": 22,
    "_isFastLaunch": false,
    "category": "Compute optimized",
    "gpuNum": 0,
    "hideHardwareSpecs": false,
    "memoryGiB": 8,
    "name": "ml.c5.xlarge",
    "vcpuNum": 4
   },
   {
    "_defaultOrder": 23,
    "_isFastLaunch": false,
    "category": "Compute optimized",
    "gpuNum": 0,
    "hideHardwareSpecs": false,
    "memoryGiB": 16,
    "name": "ml.c5.2xlarge",
    "vcpuNum": 8
   },
   {
    "_defaultOrder": 24,
    "_isFastLaunch": false,
    "category": "Compute optimized",
    "gpuNum": 0,
    "hideHardwareSpecs": false,
    "memoryGiB": 32,
    "name": "ml.c5.4xlarge",
    "vcpuNum": 16
   },
   {
    "_defaultOrder": 25,
    "_isFastLaunch": false,
    "category": "Compute optimized",
    "gpuNum": 0,
    "hideHardwareSpecs": false,
    "memoryGiB": 72,
    "name": "ml.c5.9xlarge",
    "vcpuNum": 36
   },
   {
    "_defaultOrder": 26,
    "_isFastLaunch": false,
    "category": "Compute optimized",
    "gpuNum": 0,
    "hideHardwareSpecs": false,
    "memoryGiB": 96,
    "name": "ml.c5.12xlarge",
    "vcpuNum": 48
   },
   {
    "_defaultOrder": 27,
    "_isFastLaunch": false,
    "category": "Compute optimized",
    "gpuNum": 0,
    "hideHardwareSpecs": false,
    "memoryGiB": 144,
    "name": "ml.c5.18xlarge",
    "vcpuNum": 72
   },
   {
    "_defaultOrder": 28,
    "_isFastLaunch": false,
    "category": "Compute optimized",
    "gpuNum": 0,
    "hideHardwareSpecs": false,
    "memoryGiB": 192,
    "name": "ml.c5.24xlarge",
    "vcpuNum": 96
   },
   {
    "_defaultOrder": 29,
    "_isFastLaunch": true,
    "category": "Accelerated computing",
    "gpuNum": 1,
    "hideHardwareSpecs": false,
    "memoryGiB": 16,
    "name": "ml.g4dn.xlarge",
    "vcpuNum": 4
   },
   {
    "_defaultOrder": 30,
    "_isFastLaunch": false,
    "category": "Accelerated computing",
    "gpuNum": 1,
    "hideHardwareSpecs": false,
    "memoryGiB": 32,
    "name": "ml.g4dn.2xlarge",
    "vcpuNum": 8
   },
   {
    "_defaultOrder": 31,
    "_isFastLaunch": false,
    "category": "Accelerated computing",
    "gpuNum": 1,
    "hideHardwareSpecs": false,
    "memoryGiB": 64,
    "name": "ml.g4dn.4xlarge",
    "vcpuNum": 16
   },
   {
    "_defaultOrder": 32,
    "_isFastLaunch": false,
    "category": "Accelerated computing",
    "gpuNum": 1,
    "hideHardwareSpecs": false,
    "memoryGiB": 128,
    "name": "ml.g4dn.8xlarge",
    "vcpuNum": 32
   },
   {
    "_defaultOrder": 33,
    "_isFastLaunch": false,
    "category": "Accelerated computing",
    "gpuNum": 4,
    "hideHardwareSpecs": false,
    "memoryGiB": 192,
    "name": "ml.g4dn.12xlarge",
    "vcpuNum": 48
   },
   {
    "_defaultOrder": 34,
    "_isFastLaunch": false,
    "category": "Accelerated computing",
    "gpuNum": 1,
    "hideHardwareSpecs": false,
    "memoryGiB": 256,
    "name": "ml.g4dn.16xlarge",
    "vcpuNum": 64
   },
   {
    "_defaultOrder": 35,
    "_isFastLaunch": false,
    "category": "Accelerated computing",
    "gpuNum": 1,
    "hideHardwareSpecs": false,
    "memoryGiB": 61,
    "name": "ml.p3.2xlarge",
    "vcpuNum": 8
   },
   {
    "_defaultOrder": 36,
    "_isFastLaunch": false,
    "category": "Accelerated computing",
    "gpuNum": 4,
    "hideHardwareSpecs": false,
    "memoryGiB": 244,
    "name": "ml.p3.8xlarge",
    "vcpuNum": 32
   },
   {
    "_defaultOrder": 37,
    "_isFastLaunch": false,
    "category": "Accelerated computing",
    "gpuNum": 8,
    "hideHardwareSpecs": false,
    "memoryGiB": 488,
    "name": "ml.p3.16xlarge",
    "vcpuNum": 64
   },
   {
    "_defaultOrder": 38,
    "_isFastLaunch": false,
    "category": "Accelerated computing",
    "gpuNum": 8,
    "hideHardwareSpecs": false,
    "memoryGiB": 768,
    "name": "ml.p3dn.24xlarge",
    "vcpuNum": 96
   },
   {
    "_defaultOrder": 39,
    "_isFastLaunch": false,
    "category": "Memory Optimized",
    "gpuNum": 0,
    "hideHardwareSpecs": false,
    "memoryGiB": 16,
    "name": "ml.r5.large",
    "vcpuNum": 2
   },
   {
    "_defaultOrder": 40,
    "_isFastLaunch": false,
    "category": "Memory Optimized",
    "gpuNum": 0,
    "hideHardwareSpecs": false,
    "memoryGiB": 32,
    "name": "ml.r5.xlarge",
    "vcpuNum": 4
   },
   {
    "_defaultOrder": 41,
    "_isFastLaunch": false,
    "category": "Memory Optimized",
    "gpuNum": 0,
    "hideHardwareSpecs": false,
    "memoryGiB": 64,
    "name": "ml.r5.2xlarge",
    "vcpuNum": 8
   },
   {
    "_defaultOrder": 42,
    "_isFastLaunch": false,
    "category": "Memory Optimized",
    "gpuNum": 0,
    "hideHardwareSpecs": false,
    "memoryGiB": 128,
    "name": "ml.r5.4xlarge",
    "vcpuNum": 16
   },
   {
    "_defaultOrder": 43,
    "_isFastLaunch": false,
    "category": "Memory Optimized",
    "gpuNum": 0,
    "hideHardwareSpecs": false,
    "memoryGiB": 256,
    "name": "ml.r5.8xlarge",
    "vcpuNum": 32
   },
   {
    "_defaultOrder": 44,
    "_isFastLaunch": false,
    "category": "Memory Optimized",
    "gpuNum": 0,
    "hideHardwareSpecs": false,
    "memoryGiB": 384,
    "name": "ml.r5.12xlarge",
    "vcpuNum": 48
   },
   {
    "_defaultOrder": 45,
    "_isFastLaunch": false,
    "category": "Memory Optimized",
    "gpuNum": 0,
    "hideHardwareSpecs": false,
    "memoryGiB": 512,
    "name": "ml.r5.16xlarge",
    "vcpuNum": 64
   },
   {
    "_defaultOrder": 46,
    "_isFastLaunch": false,
    "category": "Memory Optimized",
    "gpuNum": 0,
    "hideHardwareSpecs": false,
    "memoryGiB": 768,
    "name": "ml.r5.24xlarge",
    "vcpuNum": 96
   },
   {
    "_defaultOrder": 47,
    "_isFastLaunch": false,
    "category": "Accelerated computing",
    "gpuNum": 1,
    "hideHardwareSpecs": false,
    "memoryGiB": 16,
    "name": "ml.g5.xlarge",
    "vcpuNum": 4
   },
   {
    "_defaultOrder": 48,
    "_isFastLaunch": false,
    "category": "Accelerated computing",
    "gpuNum": 1,
    "hideHardwareSpecs": false,
    "memoryGiB": 32,
    "name": "ml.g5.2xlarge",
    "vcpuNum": 8
   },
   {
    "_defaultOrder": 49,
    "_isFastLaunch": false,
    "category": "Accelerated computing",
    "gpuNum": 1,
    "hideHardwareSpecs": false,
    "memoryGiB": 64,
    "name": "ml.g5.4xlarge",
    "vcpuNum": 16
   },
   {
    "_defaultOrder": 50,
    "_isFastLaunch": false,
    "category": "Accelerated computing",
    "gpuNum": 1,
    "hideHardwareSpecs": false,
    "memoryGiB": 128,
    "name": "ml.g5.8xlarge",
    "vcpuNum": 32
   },
   {
    "_defaultOrder": 51,
    "_isFastLaunch": false,
    "category": "Accelerated computing",
    "gpuNum": 1,
    "hideHardwareSpecs": false,
    "memoryGiB": 256,
    "name": "ml.g5.16xlarge",
    "vcpuNum": 64
   },
   {
    "_defaultOrder": 52,
    "_isFastLaunch": false,
    "category": "Accelerated computing",
    "gpuNum": 4,
    "hideHardwareSpecs": false,
    "memoryGiB": 192,
    "name": "ml.g5.12xlarge",
    "vcpuNum": 48
   },
   {
    "_defaultOrder": 53,
    "_isFastLaunch": false,
    "category": "Accelerated computing",
    "gpuNum": 4,
    "hideHardwareSpecs": false,
    "memoryGiB": 384,
    "name": "ml.g5.24xlarge",
    "vcpuNum": 96
   },
   {
    "_defaultOrder": 54,
    "_isFastLaunch": false,
    "category": "Accelerated computing",
    "gpuNum": 8,
    "hideHardwareSpecs": false,
    "memoryGiB": 768,
    "name": "ml.g5.48xlarge",
    "vcpuNum": 192
   },
   {
    "_defaultOrder": 55,
    "_isFastLaunch": false,
    "category": "Accelerated computing",
    "gpuNum": 8,
    "hideHardwareSpecs": false,
    "memoryGiB": 1152,
    "name": "ml.p4d.24xlarge",
    "vcpuNum": 96
   },
   {
    "_defaultOrder": 56,
    "_isFastLaunch": false,
    "category": "Accelerated computing",
    "gpuNum": 8,
    "hideHardwareSpecs": false,
    "memoryGiB": 1152,
    "name": "ml.p4de.24xlarge",
    "vcpuNum": 96
   },
   {
    "_defaultOrder": 57,
    "_isFastLaunch": false,
    "category": "Accelerated computing",
    "gpuNum": 0,
    "hideHardwareSpecs": false,
    "memoryGiB": 32,
    "name": "ml.trn1.2xlarge",
    "vcpuNum": 8
   },
   {
    "_defaultOrder": 58,
    "_isFastLaunch": false,
    "category": "Accelerated computing",
    "gpuNum": 0,
    "hideHardwareSpecs": false,
    "memoryGiB": 512,
    "name": "ml.trn1.32xlarge",
    "vcpuNum": 128
   },
   {
    "_defaultOrder": 59,
    "_isFastLaunch": false,
    "category": "Accelerated computing",
    "gpuNum": 0,
    "hideHardwareSpecs": false,
    "memoryGiB": 512,
    "name": "ml.trn1n.32xlarge",
    "vcpuNum": 128
   }
  ],
  "instance_type": "ml.t3.medium",
  "kernelspec": {
   "display_name": "Python 3 (TensorFlow 2.6 Python 3.8 CPU Optimized)",
   "language": "python",
   "name": "python3__SAGEMAKER_INTERNAL__arn:aws:sagemaker:us-east-1:081325390199:image/tensorflow-2.6-cpu-py38-ubuntu20.04-v1"
  },
  "language_info": {
   "codemirror_mode": {
    "name": "ipython",
    "version": 3
   },
   "file_extension": ".py",
   "mimetype": "text/x-python",
   "name": "python",
   "nbconvert_exporter": "python",
   "pygments_lexer": "ipython3",
   "version": "3.8.2"
  }
 },
 "nbformat": 4,
 "nbformat_minor": 4
}
